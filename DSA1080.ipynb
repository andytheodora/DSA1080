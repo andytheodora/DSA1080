{
 "cells": [
  {
   "cell_type": "code",
   "execution_count": 1,
   "id": "f602bdf6",
   "metadata": {},
   "outputs": [
    {
     "name": "stdout",
     "output_type": "stream",
     "text": [
      "Hello World\n"
     ]
    }
   ],
   "source": [
    "print(\"Hello World\")"
   ]
  },
  {
   "cell_type": "code",
   "execution_count": null,
   "id": "79920bf9",
   "metadata": {},
   "outputs": [],
   "source": [
    "#program that adds two numbers\n",
    "def add_numbers(num1, num2):\n",
    "    return num1 + num2\n",
    "\n",
    "#def means defining a function\n"
   ]
  },
  {
   "cell_type": "markdown",
   "id": "481b9c4a",
   "metadata": {},
   "source": [
    "#This is a Header\n",
    "**bold text**\n",
    "*italics*\n",
    "- instant\n",
    "- milk\n"
   ]
  },
  {
   "cell_type": "markdown",
   "id": "bb6095db",
   "metadata": {},
   "source": [
    "**Class Task: Getting to Know You in Python, May 20**"
   ]
  },
  {
   "cell_type": "code",
   "execution_count": 3,
   "id": "7665d487",
   "metadata": {},
   "outputs": [],
   "source": [
    "#define the variables\n",
    "my_name = \"Theodora\"\n",
    "my_age = 20\n",
    "my_funfact = \"I play the Trombone.\""
   ]
  },
  {
   "cell_type": "code",
   "execution_count": 4,
   "id": "e7c372b2",
   "metadata": {},
   "outputs": [
    {
     "name": "stdout",
     "output_type": "stream",
     "text": [
      "Hello, my name is Theodora.\n",
      "I am  20  years old.\n",
      "Fun fact about me: I play the Trombone.\n"
     ]
    }
   ],
   "source": [
    "#printing an introduction\n",
    "print(\"Hello, my name is \" + my_name + \".\")\n",
    "print(\"I am \",my_age,\" years old.\")\n",
    "print(\"Fun fact about me: \" + my_funfact)"
   ]
  },
  {
   "cell_type": "code",
   "execution_count": 5,
   "id": "2748253d",
   "metadata": {},
   "outputs": [
    {
     "name": "stdout",
     "output_type": "stream",
     "text": [
      "Hello Tee! Nice to meet you.\n"
     ]
    }
   ],
   "source": [
    "#asking the user for their name and printing a personalized message\n",
    "user_name = input(\"What's your name? \")\n",
    "print(\"Hello \" + user_name + \"! Nice to meet you.\")"
   ]
  },
  {
   "cell_type": "markdown",
   "id": "9d937430",
   "metadata": {},
   "source": [
    "**May 22**"
   ]
  },
  {
   "cell_type": "code",
   "execution_count": 6,
   "id": "63d313d6",
   "metadata": {},
   "outputs": [
    {
     "name": "stdout",
     "output_type": "stream",
     "text": [
      "5 is greater than 2\n"
     ]
    }
   ],
   "source": [
    "#indentation\n",
    "if 5 > 2:\n",
    "    print(\"5 is greater than 2\")  #no indentation would generate an error"
   ]
  },
  {
   "cell_type": "code",
   "execution_count": 7,
   "id": "9b27402b",
   "metadata": {},
   "outputs": [
    {
     "data": {
      "text/plain": [
       "'this is a multi-line comment'"
      ]
     },
     "execution_count": 7,
     "metadata": {},
     "output_type": "execute_result"
    }
   ],
   "source": [
    "#comments\n",
    "'''this is a multi-line comment''' #use this when writing long comments\n",
    "#this is a single line comment #use this when writing short comments"
   ]
  },
  {
   "cell_type": "code",
   "execution_count": 8,
   "id": "8b8a35ec",
   "metadata": {},
   "outputs": [
    {
     "name": "stdout",
     "output_type": "stream",
     "text": [
      "5\n",
      "John\n"
     ]
    }
   ],
   "source": [
    "#variables\n",
    "x = 5\n",
    "y = 'John'\n",
    "print(x)\n",
    "print(y)\n",
    "\n",
    "#when writing variables we dont start with a number, use a hyphen or space"
   ]
  },
  {
   "cell_type": "code",
   "execution_count": 9,
   "id": "4ef2869f",
   "metadata": {},
   "outputs": [
    {
     "name": "stdout",
     "output_type": "stream",
     "text": [
      "<class 'int'>\n",
      "<class 'str'>\n",
      "<class 'float'>\n"
     ]
    }
   ],
   "source": [
    "#data types\n",
    "#checking for the type of a variable\n",
    "x = 4\n",
    "y = \"Shahid\"\n",
    "z = 5.89\n",
    "print(type(x))\n",
    "print(type(y))\n",
    "print(type(z))"
   ]
  },
  {
   "cell_type": "code",
   "execution_count": 10,
   "id": "1187721d",
   "metadata": {},
   "outputs": [
    {
     "name": "stdout",
     "output_type": "stream",
     "text": [
      "<class 'int'>\n",
      "<class 'int'>\n",
      "<class 'int'>\n"
     ]
    }
   ],
   "source": [
    "#integers\n",
    "x = 1458\n",
    "y = 35656222554887711\n",
    "z = -325552\n",
    "print(type(x))\n",
    "print(type(y))\n",
    "print(type(z))\n"
   ]
  },
  {
   "cell_type": "code",
   "execution_count": 11,
   "id": "d156512b",
   "metadata": {},
   "outputs": [
    {
     "name": "stdout",
     "output_type": "stream",
     "text": [
      "<class 'float'>\n",
      "<class 'float'>\n",
      "<class 'float'>\n"
     ]
    }
   ],
   "source": [
    "#floats\n",
    "x = 1.10\n",
    "y = 1.0\n",
    "z = -35.59\n",
    "print(type(x))\n",
    "print(type(y))\n",
    "print(type(z))"
   ]
  },
  {
   "cell_type": "code",
   "execution_count": 12,
   "id": "3dc3f1d7",
   "metadata": {},
   "outputs": [
    {
     "name": "stdout",
     "output_type": "stream",
     "text": [
      "<class 'complex'>\n",
      "<class 'complex'>\n",
      "<class 'complex'>\n"
     ]
    }
   ],
   "source": [
    "#complex numbers\n",
    "x = 3 + 5j\n",
    "y = 5j\n",
    "z = -5j\n",
    "print (type(x))\n",
    "print (type(y))\n",
    "print (type(z))\n"
   ]
  },
  {
   "cell_type": "code",
   "execution_count": 13,
   "id": "6a36b068",
   "metadata": {},
   "outputs": [
    {
     "name": "stdout",
     "output_type": "stream",
     "text": [
      "1.0\n",
      "2\n",
      "(1+0j)\n",
      "<class 'float'>\n",
      "<class 'int'>\n",
      "<class 'complex'>\n"
     ]
    }
   ],
   "source": [
    "#type conversion\n",
    "x = 1\n",
    "y = 2.8\n",
    "z = 1j\n",
    "#convert from int to float\n",
    "a = float(x)\n",
    "#convert from float to int\n",
    "b = int(y)\n",
    "#convert from int to complex\n",
    "c = complex(x)\n",
    "print(a)\n",
    "print(b)\n",
    "print(c)\n",
    "print(type(a))\n",
    "print(type(b))\n",
    "print(type(c))"
   ]
  },
  {
   "cell_type": "code",
   "execution_count": 14,
   "id": "ceb45500",
   "metadata": {},
   "outputs": [
    {
     "name": "stdout",
     "output_type": "stream",
     "text": [
      "39\n"
     ]
    }
   ],
   "source": [
    "#finding the length of a string\n",
    "a = \"Theodora Chukwumereogo Andy-Orlu Thomas\"\n",
    "print(len(a))"
   ]
  },
  {
   "cell_type": "code",
   "execution_count": 15,
   "id": "fb437d75",
   "metadata": {},
   "outputs": [
    {
     "name": "stdout",
     "output_type": "stream",
     "text": [
      "llo\n"
     ]
    }
   ],
   "source": [
    "#slicing strings\n",
    "b = \"Hello World\"\n",
    "S = b[2:5]\n",
    "print(S)\n",
    "\n",
    "#in slicing the last index is always ignored hence why it ends at o and not the comma however the start index isnt"
   ]
  },
  {
   "cell_type": "code",
   "execution_count": 16,
   "id": "8ceb0b15",
   "metadata": {},
   "outputs": [
    {
     "name": "stdout",
     "output_type": "stream",
     "text": [
      "Hello\n"
     ]
    }
   ],
   "source": [
    "#slicing example using the last index\n",
    "b = \"Hello World\"\n",
    "print(b[:5])"
   ]
  },
  {
   "cell_type": "code",
   "execution_count": 17,
   "id": "3bc03b00",
   "metadata": {},
   "outputs": [
    {
     "name": "stdout",
     "output_type": "stream",
     "text": [
      "llo World\n"
     ]
    }
   ],
   "source": [
    "#slicing example using the start index\n",
    "b = \"Hello World\"\n",
    "print(b[2:])"
   ]
  },
  {
   "cell_type": "code",
   "execution_count": 18,
   "id": "97954f8f",
   "metadata": {},
   "outputs": [
    {
     "name": "stdout",
     "output_type": "stream",
     "text": [
      "HELLO WORLD\n"
     ]
    }
   ],
   "source": [
    "#conversion to upper case\n",
    "a = \"Hello World\"\n",
    "B = a.upper()\n",
    "print(B)"
   ]
  },
  {
   "cell_type": "code",
   "execution_count": 19,
   "id": "6a429e01",
   "metadata": {},
   "outputs": [
    {
     "name": "stdout",
     "output_type": "stream",
     "text": [
      "hello world\n"
     ]
    }
   ],
   "source": [
    "#conversion to lower case\n",
    "a = \"Hello World\"\n",
    "print(a.lower())"
   ]
  },
  {
   "cell_type": "code",
   "execution_count": 20,
   "id": "5b1cda80",
   "metadata": {},
   "outputs": [
    {
     "name": "stdout",
     "output_type": "stream",
     "text": [
      "Jello World\n"
     ]
    }
   ],
   "source": [
    "#replacing strings\n",
    "a = \"Hello World\"\n",
    "B = a.replace(\"H\",\"J\")\n",
    "print(B)"
   ]
  },
  {
   "cell_type": "code",
   "execution_count": 21,
   "id": "8ba1c2f9",
   "metadata": {},
   "outputs": [
    {
     "name": "stdout",
     "output_type": "stream",
     "text": [
      "Hello World\n"
     ]
    }
   ],
   "source": [
    "#string concatenation aka addition\n",
    "a = \"Hello\"\n",
    "b = \" World\"\n",
    "c = a + b\n",
    "print(c)"
   ]
  },
  {
   "cell_type": "code",
   "execution_count": 22,
   "id": "5c44eed8",
   "metadata": {},
   "outputs": [
    {
     "name": "stdout",
     "output_type": "stream",
     "text": [
      "My name is John 36\n"
     ]
    }
   ],
   "source": [
    "#combining different data types\n",
    "age = 36\n",
    "txt = \"My name is John {}\"\n",
    "D = txt.format(age)\n",
    "print(D)"
   ]
  },
  {
   "cell_type": "markdown",
   "id": "5e3cf2b4",
   "metadata": {},
   "source": [
    "**May 27**"
   ]
  },
  {
   "cell_type": "code",
   "execution_count": 23,
   "id": "9975c5cd",
   "metadata": {},
   "outputs": [
    {
     "name": "stdout",
     "output_type": "stream",
     "text": [
      "The sum of 1.5 and 6.3 is 7.8\n"
     ]
    }
   ],
   "source": [
    "#adding two numbers\n",
    "num1 = 1.5\n",
    "num2 = 6.3\n",
    "\n",
    "#add two numbers\n",
    "sum = num1 + num2\n",
    "\n",
    "#display the sum\n",
    "print(\"The sum of {0} and {1} is {2}\".format(num1, num2, sum))"
   ]
  },
  {
   "cell_type": "code",
   "execution_count": 24,
   "id": "5360c8fb",
   "metadata": {},
   "outputs": [
    {
     "name": "stdout",
     "output_type": "stream",
     "text": [
      "The sum of 1 and 2 is 3.0\n"
     ]
    }
   ],
   "source": [
    "#adding two numbers using user input\n",
    "#store input numbers\n",
    "num1 = input(\"Enter the first number: \")\n",
    "num2 = input(\"Enter the second number: \")\n",
    "\n",
    "#add two numbers\n",
    "sum = float(num1) + float(num2)\n",
    "\n",
    "#display the sum\n",
    "print(\"The sum of {0} and {1} is {2}\".format(num1, num2, sum))\n"
   ]
  },
  {
   "cell_type": "code",
   "execution_count": 25,
   "id": "33e658ea",
   "metadata": {},
   "outputs": [
    {
     "name": "stdout",
     "output_type": "stream",
     "text": [
      "The cube of a given number 3.0 = 27.0\n"
     ]
    }
   ],
   "source": [
    "#python program to calculate cube of a number\n",
    "\n",
    "number = float(input(\"Please enter any numeric value: \"))\n",
    "cube = number * number * number\n",
    "print(\"The cube of a given number {0} = {1}\".format(number, cube))"
   ]
  },
  {
   "cell_type": "code",
   "execution_count": 26,
   "id": "51bb79a1",
   "metadata": {},
   "outputs": [
    {
     "name": "stdout",
     "output_type": "stream",
     "text": [
      "These are lists: [1, 2, 3, 4, 5, 6] , [1, 2, 3, 4, 5, 6]\n"
     ]
    }
   ],
   "source": [
    "#creating a list\n",
    "L1 = [1, 2, 3, 4, 5, 6]\n",
    "L2 = [1, 2, 3, 4, 5, 6]\n",
    "\n",
    "print(\"These are lists:\", L1, \",\", L2)"
   ]
  },
  {
   "cell_type": "code",
   "execution_count": 27,
   "id": "1980caf0",
   "metadata": {},
   "outputs": [
    {
     "data": {
      "text/plain": [
       "[0, 1, 2, 3, 4, 5]"
      ]
     },
     "execution_count": 27,
     "metadata": {},
     "output_type": "execute_result"
    }
   ],
   "source": [
    "#splitting a list\n",
    "List = [0, 1, 2, 3, 4, 5]\n",
    "\n",
    "List[0:]"
   ]
  },
  {
   "cell_type": "code",
   "execution_count": 28,
   "id": "c5f3de3f",
   "metadata": {},
   "outputs": [
    {
     "data": {
      "text/plain": [
       "[0, 1, 2, 3, 4, 5]"
      ]
     },
     "execution_count": 28,
     "metadata": {},
     "output_type": "execute_result"
    }
   ],
   "source": [
    "#splitting a list\n",
    "List = [0, 1, 2, 3, 4, 5]\n",
    "\n",
    "List[:]"
   ]
  },
  {
   "cell_type": "code",
   "execution_count": 29,
   "id": "18c629bf",
   "metadata": {},
   "outputs": [
    {
     "data": {
      "text/plain": [
       "[2, 3]"
      ]
     },
     "execution_count": 29,
     "metadata": {},
     "output_type": "execute_result"
    }
   ],
   "source": [
    "#splitting a list\n",
    "List = [0, 1, 2, 3, 4, 5]\n",
    "\n",
    "List[2:4]"
   ]
  },
  {
   "cell_type": "code",
   "execution_count": 30,
   "id": "860646d7",
   "metadata": {},
   "outputs": [
    {
     "data": {
      "text/plain": [
       "[1, 2]"
      ]
     },
     "execution_count": 30,
     "metadata": {},
     "output_type": "execute_result"
    }
   ],
   "source": [
    "#splitting a list\n",
    "List = [0, 1, 2, 3, 4, 5]\n",
    "\n",
    "List[1:3]"
   ]
  },
  {
   "cell_type": "code",
   "execution_count": 31,
   "id": "37747506",
   "metadata": {},
   "outputs": [
    {
     "data": {
      "text/plain": [
       "[0, 1, 2, 3]"
      ]
     },
     "execution_count": 31,
     "metadata": {},
     "output_type": "execute_result"
    }
   ],
   "source": [
    "#splitting a list\n",
    "List = [0, 1, 2, 3, 4, 5]\n",
    "\n",
    "List[:4]"
   ]
  },
  {
   "cell_type": "code",
   "execution_count": null,
   "id": "bb1a340b",
   "metadata": {},
   "outputs": [
    {
     "name": "stdout",
     "output_type": "stream",
     "text": [
      "1\n",
      "2\n",
      "3\n",
      "4\n",
      "[1, 2, 3, 4, 5, 6]\n",
      "[1, 2, 3, 4, 5, 6, 7]\n",
      "[3, 4, 5]\n",
      "[2, 4, 6]\n"
     ]
    }
   ],
   "source": [
    "#splitting a list\n",
    "list = [1, 2, 3, 4, 5, 6, 7]\n",
    "print(list[0])\n",
    "print(list[1])\n",
    "print(list[2])\n",
    "print(list[3])\n",
    "\n",
    "#slicing the elements\n",
    "print(list[0:6]) #by default the index value is 0 so it starts from the 0th element and go for index -1\n",
    "print(list[:])\n",
    "print(list[2:5])\n",
    "print(list[1:6:2]) #anytime you see three the last one is a step index so '2' there indicates the the numbers (or steps) being skipped"
   ]
  },
  {
   "cell_type": "code",
   "execution_count": 33,
   "id": "2eae187b",
   "metadata": {},
   "outputs": [
    {
     "name": "stdout",
     "output_type": "stream",
     "text": [
      "5\n",
      "[3, 4, 5]\n",
      "[1, 2, 3, 4]\n",
      "[3, 4]\n"
     ]
    }
   ],
   "source": [
    "#negative indexing\n",
    "list = [1, 2, 3, 4, 5]\n",
    "print(list[-1])\n",
    "print(list[-3:])\n",
    "print(list[:-1])\n",
    "print(list[-3: -1])"
   ]
  },
  {
   "cell_type": "markdown",
   "id": "b03e52c4",
   "metadata": {},
   "source": [
    "**Assignment 2:**"
   ]
  },
  {
   "cell_type": "code",
   "execution_count": 34,
   "id": "a522e12b",
   "metadata": {},
   "outputs": [
    {
     "name": "stdout",
     "output_type": "stream",
     "text": [
      "The first five characters are: Chukw\n",
      "Characters from index 7 till the end: ereogo\n",
      "This substring is from index 2 to index 6: ukwu\n",
      "This is the reversed string: ogoeremuwkuhC\n"
     ]
    }
   ],
   "source": [
    "#1) String Slicing\n",
    "\n",
    "#choosing a string\n",
    "name = \"Chukwumereogo\"\n",
    "\n",
    "#extracting the first five characters\n",
    "first_five = name[:5]\n",
    "print(\"The first five characters are:\", first_five)\n",
    "\n",
    "#extracting characters from index 7 till the end\n",
    "from_seven = name[7:]\n",
    "print(\"Characters from index 7 till the end:\", from_seven)\n",
    "\n",
    "#extracting a substring of my string\n",
    "substring = name[2:6]\n",
    "print(\"This substring is from index 2 to index 6:\", substring)\n",
    "\n",
    "#reversing the string using slicing\n",
    "reversed_string = name[::-1]\n",
    "print(\"This is the reversed string:\", reversed_string)"
   ]
  },
  {
   "cell_type": "code",
   "execution_count": 35,
   "id": "ca5e2da0",
   "metadata": {},
   "outputs": [
    {
     "name": "stdout",
     "output_type": "stream",
     "text": [
      "The first three elements are: [0, 1, 2]\n",
      "The elements from index four to index seven are: [4, 5, 6, 7]\n",
      "Every second element is: [0, 2, 4, 6, 8]\n",
      "This is the reversed list: [9, 8, 7, 6, 5, 4, 3, 2, 1, 0]\n"
     ]
    }
   ],
   "source": [
    "#2) List Slicing\n",
    "#choosing a list\n",
    "\n",
    "numbers = [0, 1, 2, 3, 4, 5, 6, 7, 8, 9]\n",
    "\n",
    "#extracting the first three elements\n",
    "first_three = numbers[:3]\n",
    "print(\"The first three elements are:\", first_three)\n",
    "\n",
    "#extracting the elements from index 4 to index 7\n",
    "four_to_seven = numbers[4:8]\n",
    "print(\"The elements from index four to index seven are:\", four_to_seven)\n",
    "\n",
    "#extracting every second element from the list\n",
    "every_second = numbers[::2]\n",
    "print(\"Every second element is:\", every_second)\n",
    "\n",
    "#reversing the list using slicing\n",
    "reversed_list = numbers[::-1]\n",
    "print(\"This is the reversed list:\", reversed_list)"
   ]
  },
  {
   "cell_type": "code",
   "execution_count": 36,
   "id": "68a90b26",
   "metadata": {},
   "outputs": [
    {
     "name": "stdout",
     "output_type": "stream",
     "text": [
      "The last three charcters are: ogo\n",
      "The last five elements are: [5, 6, 7, 8, 9]\n"
     ]
    }
   ],
   "source": [
    "#3) Negative Indexing\n",
    "#extracting the last three characters of the string\n",
    "last_three = name[-3:]\n",
    "print(\"The last three charcters are:\", last_three)\n",
    "\n",
    "#extracting the last five elements of the list\n",
    "last_five = numbers[-5:]\n",
    "print(\"The last five elements are:\", last_five)"
   ]
  },
  {
   "cell_type": "markdown",
   "id": "7ec7bc59",
   "metadata": {},
   "source": [
    "**May 29**"
   ]
  },
  {
   "cell_type": "code",
   "execution_count": null,
   "id": "6678a058",
   "metadata": {},
   "outputs": [
    {
     "name": "stdout",
     "output_type": "stream",
     "text": [
      "[1, 2, 3, 4, 5, 6]\n",
      "[1, 2, 10, 4, 5, 6]\n",
      "[1, 89, 78, 4, 5, 6]\n",
      "[1, 89, 78, 4, 5, 25]\n"
     ]
    }
   ],
   "source": [
    "#updating list values\n",
    "list = [1, 2, 3, 4, 5, 6]\n",
    "print(list)\n",
    "\n",
    "#update values of the second index\n",
    "list[2] = 10\n",
    "print(list)\n",
    "\n",
    "#update multiple elememts\n",
    "list[1:3] = [89, 78]\n",
    "print(list)\n",
    "\n",
    "#update values at the end of the list\n",
    "list[-1] = 25\n",
    "print(list)\n"
   ]
  },
  {
   "cell_type": "code",
   "execution_count": 38,
   "id": "a3991206",
   "metadata": {},
   "outputs": [
    {
     "name": "stdout",
     "output_type": "stream",
     "text": [
      "['apple', 'banana', 'cherry', 'orange']\n"
     ]
    }
   ],
   "source": [
    "#adding elements to a list\n",
    "#append method\n",
    "thislist = [\"apple\", \"banana\", \"cherry\"]\n",
    "thislist.append(\"orange\")\n",
    "print(thislist)"
   ]
  },
  {
   "cell_type": "code",
   "execution_count": 47,
   "id": "bfd8e988",
   "metadata": {},
   "outputs": [
    {
     "name": "stdout",
     "output_type": "stream",
     "text": [
      "['orange', 'apple', 'banana', 'cherry']\n"
     ]
    }
   ],
   "source": [
    "#the insert() method\n",
    "thislist = [\"apple\", \"banana\", \"cherry\"]\n",
    "thislist.insert(0, \"orange\")\n",
    "print(thislist)\n"
   ]
  },
  {
   "cell_type": "code",
   "execution_count": 40,
   "id": "e2085f3d",
   "metadata": {},
   "outputs": [
    {
     "name": "stdout",
     "output_type": "stream",
     "text": [
      "['apple', 'cherry']\n"
     ]
    }
   ],
   "source": [
    "#removing items from a list\n",
    "#the remove() method\n",
    "thislist = [\"apple\", \"banana\", \"cherry\"]\n",
    "thislist.remove(\"banana\")\n",
    "print(thislist)"
   ]
  },
  {
   "cell_type": "code",
   "execution_count": 41,
   "id": "d1f5cb24",
   "metadata": {},
   "outputs": [
    {
     "name": "stdout",
     "output_type": "stream",
     "text": [
      "['apple', 'cherry']\n"
     ]
    }
   ],
   "source": [
    "#the pop() method (removes using a specified index)\n",
    "thislist = [\"apple\", \"banana\", \"cherry\"]\n",
    "thislist.pop(1)\n",
    "print(thislist)"
   ]
  },
  {
   "cell_type": "code",
   "execution_count": 42,
   "id": "7a0aa9bb",
   "metadata": {},
   "outputs": [
    {
     "name": "stdout",
     "output_type": "stream",
     "text": [
      "['banana', 'cherry']\n"
     ]
    }
   ],
   "source": [
    "#using the del keyword\n",
    "thislist = [\"apple\", \"banana\", \"cherry\"]\n",
    "del thislist[0]\n",
    "print(thislist)"
   ]
  },
  {
   "cell_type": "code",
   "execution_count": 43,
   "id": "5467854e",
   "metadata": {},
   "outputs": [
    {
     "ename": "NameError",
     "evalue": "name 'thislist' is not defined",
     "output_type": "error",
     "traceback": [
      "\u001b[31m---------------------------------------------------------------------------\u001b[39m",
      "\u001b[31mNameError\u001b[39m                                 Traceback (most recent call last)",
      "\u001b[36mCell\u001b[39m\u001b[36m \u001b[39m\u001b[32mIn[43]\u001b[39m\u001b[32m, line 4\u001b[39m\n\u001b[32m      2\u001b[39m thislist = [\u001b[33m\"\u001b[39m\u001b[33mapple\u001b[39m\u001b[33m\"\u001b[39m, \u001b[33m\"\u001b[39m\u001b[33mbanana\u001b[39m\u001b[33m\"\u001b[39m, \u001b[33m\"\u001b[39m\u001b[33mcherry\u001b[39m\u001b[33m\"\u001b[39m]\n\u001b[32m      3\u001b[39m \u001b[38;5;28;01mdel\u001b[39;00m thislist\n\u001b[32m----> \u001b[39m\u001b[32m4\u001b[39m \u001b[38;5;28mprint\u001b[39m(\u001b[43mthislist\u001b[49m) \u001b[38;5;66;03m#should print an error cause its not defined anymore\u001b[39;00m\n",
      "\u001b[31mNameError\u001b[39m: name 'thislist' is not defined"
     ]
    }
   ],
   "source": [
    "#deleting the entire list\n",
    "thislist = [\"apple\", \"banana\", \"cherry\"]\n",
    "del thislist\n",
    "print(thislist) #should print an error cause its not defined anymore"
   ]
  },
  {
   "cell_type": "code",
   "execution_count": null,
   "id": "efd79ddc",
   "metadata": {},
   "outputs": [
    {
     "name": "stdout",
     "output_type": "stream",
     "text": [
      "[]\n"
     ]
    }
   ],
   "source": [
    "#using the clear() method\n",
    "thislist = [\"apple\", \"banana\", \"cherry\"]\n",
    "thislist.clear()\n",
    "print(thislist)"
   ]
  },
  {
   "cell_type": "code",
   "execution_count": null,
   "id": "91a61f3a",
   "metadata": {},
   "outputs": [
    {
     "name": "stdout",
     "output_type": "stream",
     "text": [
      "('apple', 'banana', 'cherry')\n"
     ]
    }
   ],
   "source": [
    "#Tuples\n",
    "thistuple = (\"apple\", \"banana\", \"cherry\")\n",
    "print(thistuple)"
   ]
  },
  {
   "cell_type": "code",
   "execution_count": null,
   "id": "d2fce7f3",
   "metadata": {},
   "outputs": [
    {
     "name": "stdout",
     "output_type": "stream",
     "text": [
      "15\n"
     ]
    }
   ],
   "source": [
    "#determining how many items a tuple has\n",
    "thistuple = (\"apple\", \"banana\", \"orange\", \"pineapple\", \"mango\", \"grapes\", \"cherry\", \"strawberries\", \"avocado\", \"lemon\", \"pear\", \"peach\", \"dragonfruit\", \"rasberry\", \"tangerines\")\n",
    "print(len(thistuple))\n",
    "\n",
    "#when making tuples with 1 element you should add a comma at the end unless python takes it as a string: thistuple = (\"apple\",)"
   ]
  },
  {
   "cell_type": "code",
   "execution_count": null,
   "id": "6eab89d2",
   "metadata": {},
   "outputs": [
    {
     "name": "stdout",
     "output_type": "stream",
     "text": [
      "banana\n"
     ]
    }
   ],
   "source": [
    "#accessing tuple items\n",
    "thistuple = (\"apple\", \"banana\", \"cherry\")\n",
    "print(thistuple[1])"
   ]
  },
  {
   "cell_type": "code",
   "execution_count": null,
   "id": "b4e792b0",
   "metadata": {},
   "outputs": [
    {
     "name": "stdout",
     "output_type": "stream",
     "text": [
      "cherry\n"
     ]
    }
   ],
   "source": [
    "#using negative indexing\n",
    "thistuple = (\"apple\", \"banana\", \"cherry\")\n",
    "print(thistuple[-1])"
   ]
  },
  {
   "cell_type": "code",
   "execution_count": null,
   "id": "6bf7727c",
   "metadata": {},
   "outputs": [
    {
     "name": "stdout",
     "output_type": "stream",
     "text": [
      "('orange', 'pineapple', 'mango')\n"
     ]
    }
   ],
   "source": [
    "#range of indexes\n",
    "#returning the third, fourth and fifth items\n",
    "thistuple = (\"apple\", \"banana\", \"orange\", \"pineapple\", \"mango\", \"grapes\", \"cherry\", \"strawberries\", \"avocado\", \"lemon\", \"pear\", \"peach\", \"dragonfruit\", \"rasberry\", \"tangerines\")\n",
    "print(thistuple[2:5])"
   ]
  },
  {
   "cell_type": "code",
   "execution_count": null,
   "id": "c84ffd73",
   "metadata": {},
   "outputs": [
    {
     "name": "stdout",
     "output_type": "stream",
     "text": [
      "('apple', 'banana', 'orange', 'pineapple', 'mango', 'grapes', 'cherry', 'strawberries', 'avocado', 'lemon', 'pear', 'peach', 'dragonfruit', 'rasberry')\n"
     ]
    }
   ],
   "source": [
    "#slicing, from the beginning and stopping at a given range\n",
    "thistuple = (\"apple\", \"banana\", \"orange\", \"pineapple\", \"mango\", \"grapes\", \"cherry\", \"strawberries\", \"avocado\", \"lemon\", \"pear\", \"peach\", \"dragonfruit\", \"rasberry\", \"tangerines\")\n",
    "print(thistuple[:14])"
   ]
  },
  {
   "cell_type": "code",
   "execution_count": null,
   "id": "1b4f53fa",
   "metadata": {},
   "outputs": [
    {
     "name": "stdout",
     "output_type": "stream",
     "text": [
      "('grapes', 'cherry', 'strawberries', 'avocado', 'lemon', 'pear', 'peach', 'dragonfruit', 'rasberry', 'tangerines')\n"
     ]
    }
   ],
   "source": [
    "#slicing, beginning of the start range till the end\n",
    "thistuple = (\"apple\", \"banana\", \"orange\", \"pineapple\", \"mango\", \"grapes\", \"cherry\", \"strawberries\", \"avocado\", \"lemon\", \"pear\", \"peach\", \"dragonfruit\", \"rasberry\", \"tangerines\")\n",
    "print(thistuple[5:])"
   ]
  },
  {
   "cell_type": "code",
   "execution_count": null,
   "id": "a88064ef",
   "metadata": {},
   "outputs": [
    {
     "name": "stdout",
     "output_type": "stream",
     "text": [
      "('apple', 'kiwi', 'cherry')\n"
     ]
    }
   ],
   "source": [
    "#updating a tuple, to update items in a tuple you change it to a list, update and then convert back to a tuple\n",
    "x = (\"apple\", \"banana\", \"cherry\")\n",
    "y = list(x)\n",
    "y[1] = \"kiwi\"\n",
    "x = tuple(y)\n",
    "print(x)"
   ]
  },
  {
   "cell_type": "code",
   "execution_count": null,
   "id": "5a8f6ca1",
   "metadata": {},
   "outputs": [
    {
     "name": "stdout",
     "output_type": "stream",
     "text": [
      "('apple', 'banana', 'cherry', 'orange')\n"
     ]
    }
   ],
   "source": [
    "#adding items to a tuple, you change it to a list, add and then convert back to a tuple\n",
    "thistuple = (\"apple\", \"banana\", \"cherry\")\n",
    "y = list(thistuple)\n",
    "y.append(\"orange\")\n",
    "thistuple = tuple(y)\n",
    "print(thistuple)\n"
   ]
  },
  {
   "cell_type": "code",
   "execution_count": null,
   "id": "9f38c0ac",
   "metadata": {},
   "outputs": [
    {
     "name": "stdout",
     "output_type": "stream",
     "text": [
      "('apple', 'banana', 'cherry', 'orange')\n"
     ]
    }
   ],
   "source": [
    "#adding tuples together\n",
    "thistuple = (\"apple\", \"banana\", \"cherry\")\n",
    "y = (\"orange\",)\n",
    "thistuple += y\n",
    "print(thistuple)"
   ]
  },
  {
   "cell_type": "code",
   "execution_count": null,
   "id": "d35a82db",
   "metadata": {},
   "outputs": [
    {
     "name": "stdout",
     "output_type": "stream",
     "text": [
      "('banana', 'cherry')\n"
     ]
    }
   ],
   "source": [
    "#removing items, you change it to a list, remove and then convert back to a tuple\n",
    "thistuple = (\"apple\", \"banana\", \"cherry\")\n",
    "y = list(thistuple)\n",
    "y.remove(\"apple\")\n",
    "thistuple = tuple(y)\n",
    "print(thistuple)"
   ]
  },
  {
   "cell_type": "markdown",
   "id": "6eda238f",
   "metadata": {},
   "source": [
    "**Assignment 3**"
   ]
  },
  {
   "cell_type": "code",
   "execution_count": null,
   "id": "f53a6efd",
   "metadata": {},
   "outputs": [
    {
     "name": "stdout",
     "output_type": "stream",
     "text": [
      "A tuple with 5 items: ('apple', 'banana', 'cherry', 'orange', 'kiwi')\n"
     ]
    }
   ],
   "source": [
    "#1. creating a tuple with at least 5 different items and printing the tuple\n",
    "thistuple = (\"apple\", \"banana\", \"cherry\", \"orange\", \"kiwi\")\n",
    "print(\"A tuple with 5 items:\", thistuple)"
   ]
  },
  {
   "cell_type": "code",
   "execution_count": null,
   "id": "47dfc2d0",
   "metadata": {},
   "outputs": [
    {
     "name": "stdout",
     "output_type": "stream",
     "text": [
      "The second element is banana and the fourth element is orange\n"
     ]
    }
   ],
   "source": [
    "#2. accessing and printing the second and fourth elements of the tuple\n",
    "thistuple = (\"apple\", \"banana\", \"cherry\", \"orange\", \"kiwi\")\n",
    "print(\"The second element is\", thistuple[1], \"and the fourth element is\", thistuple[3])\n"
   ]
  },
  {
   "cell_type": "code",
   "execution_count": null,
   "id": "cffc23cb",
   "metadata": {},
   "outputs": [
    {
     "name": "stdout",
     "output_type": "stream",
     "text": [
      "This is the new tuple: ('apple', 'banana', 'cherry', 'orange', 'kiwi', 'grape', 'mango', 'peach')\n"
     ]
    }
   ],
   "source": [
    "#3. creating a new tuple by concatenating the original tuple with another tuple containing 3 more items\n",
    "thistuple = (\"apple\", \"banana\", \"cherry\", \"orange\", \"kiwi\")\n",
    "y = (\"grape\", \"mango\", \"peach\")\n",
    "thistuple += y\n",
    "print(\"This is the new tuple:\", thistuple)"
   ]
  },
  {
   "cell_type": "code",
   "execution_count": null,
   "id": "17d66904",
   "metadata": {},
   "outputs": [
    {
     "name": "stdout",
     "output_type": "stream",
     "text": [
      "This is the updated tuple with a new fruit: ('apple', 'banana', 'cherry', 'orange', 'kiwi', 'grape', 'mango', 'peach', 'strawberry')\n"
     ]
    }
   ],
   "source": [
    "#4. converting the concatenated tuple to a list, adding a new fruit to the list, and converting it back to a tuple\n",
    "thistuple = (\"apple\", \"banana\", \"cherry\", \"orange\", \"kiwi\", \"grape\", \"mango\", \"peach\")\n",
    "y = list(thistuple)\n",
    "y.append(\"strawberry\")\n",
    "thistuple = tuple(y)\n",
    "print(\"This is the updated tuple with a new fruit:\", thistuple)"
   ]
  },
  {
   "cell_type": "code",
   "execution_count": null,
   "id": "8b46f827",
   "metadata": {},
   "outputs": [
    {
     "name": "stdout",
     "output_type": "stream",
     "text": [
      "The length of the updated tuple is: 9\n"
     ]
    }
   ],
   "source": [
    "#5. finding and printing the length of the updated tuple\n",
    "thistuple = (\"apple\", \"banana\", \"cherry\", \"orange\", \"kiwi\", \"grape\", \"mango\", \"peach\", \"strawberry\")\n",
    "print(\"The length of the updated tuple is:\", len(thistuple))"
   ]
  },
  {
   "cell_type": "code",
   "execution_count": null,
   "id": "8017ef62",
   "metadata": {},
   "outputs": [
    {
     "name": "stdout",
     "output_type": "stream",
     "text": [
      "peach is present in the tuple.\n"
     ]
    }
   ],
   "source": [
    "#6. checking if a specific item is present in the updated tuple and print the result\n",
    "thistuple = (\"apple\", \"banana\", \"cherry\", \"orange\", \"kiwi\", \"grape\", \"mango\", \"peach\", \"strawberry\")\n",
    "item_to_check = \"peach\"\n",
    "if item_to_check in thistuple:\n",
    "    print(f\"{item_to_check} is present in the tuple.\")"
   ]
  },
  {
   "cell_type": "code",
   "execution_count": null,
   "id": "a29051af",
   "metadata": {},
   "outputs": [
    {
     "name": "stdout",
     "output_type": "stream",
     "text": [
      "Item apple\n",
      "Item banana\n",
      "Item cherry\n",
      "Item orange\n",
      "Item kiwi\n",
      "Item grape\n",
      "Item mango\n",
      "Item peach\n",
      "Item strawberry\n"
     ]
    }
   ],
   "source": [
    "#7. iterating through the updated tuple and printing each item\n",
    "thistuple = (\"apple\", \"banana\", \"cherry\", \"orange\", \"kiwi\", \"grape\", \"mango\", \"peach\", \"strawberry\")\n",
    "for item in thistuple:\n",
    "    print(\"Item\", item)"
   ]
  },
  {
   "cell_type": "code",
   "execution_count": null,
   "id": "06269083",
   "metadata": {},
   "outputs": [
    {
     "name": "stdout",
     "output_type": "stream",
     "text": [
      "This is the type of the single item tuple: <class 'tuple'>\n"
     ]
    }
   ],
   "source": [
    "#8. creating a tuple with a single element and printing its type\n",
    "single_item_tuple = (\"pineapple\",)\n",
    "print(\"This is the type of the single item tuple:\", type(single_item_tuple))"
   ]
  },
  {
   "cell_type": "code",
   "execution_count": null,
   "id": "4555cc04",
   "metadata": {},
   "outputs": [
    {
     "name": "stdout",
     "output_type": "stream",
     "text": [
      "The first three elements are: apple banana cherry\n"
     ]
    }
   ],
   "source": [
    "# 9. unpacking the first three elements of the updated tuple into three variables and printing them\n",
    "thistuple = (\"apple\", \"banana\", \"cherry\", \"orange\", \"kiwi\", \"grape\", \"mango\", \"peach\", \"strawberry\")\n",
    "first, second, third, *rest = thistuple\n",
    "print(\"The first three elements are:\", first, second, third)"
   ]
  },
  {
   "cell_type": "code",
   "execution_count": 50,
   "id": "9e05a23f",
   "metadata": {},
   "outputs": [
    {
     "name": "stdout",
     "output_type": "stream",
     "text": [
      "This is the inner tuple: pineapple\n"
     ]
    }
   ],
   "source": [
    "# 10. creating a nested tuple and accessing an element from the inner tuple\n",
    "nested_tuple = (\"kiwi\", (\"pineapple, strawberry, orange, peach\"), \"mango\")\n",
    "inner_tuple = nested_tuple[1]\n",
    "print(\"This is the inner tuple:\", inner_tuple[0:9])"
   ]
  },
  {
   "cell_type": "code",
   "execution_count": null,
   "id": "dfbc7e26",
   "metadata": {},
   "outputs": [
    {
     "name": "stdout",
     "output_type": "stream",
     "text": [
      "The first element is kiwi and the last element is mango\n"
     ]
    }
   ],
   "source": [
    "# 11. accsessing and printing the first and last elements of the tuple.\n",
    "first_element = nested_tuple[0]\n",
    "last_element = nested_tuple[-1]\n",
    "print(\"The first element is\", first_element, \"and the last element is\", last_element)"
   ]
  },
  {
   "cell_type": "code",
   "execution_count": null,
   "id": "b6ada016",
   "metadata": {},
   "outputs": [
    {
     "name": "stdout",
     "output_type": "stream",
     "text": [
      "This is the new tuple created by repeating the original tuple 3 times: ('apple', 'banana', 'cherry', 'orange', 'kiwi', 'grape', 'mango', 'peach', 'strawberry', 'apple', 'banana', 'cherry', 'orange', 'kiwi', 'grape', 'mango', 'peach', 'strawberry', 'apple', 'banana', 'cherry', 'orange', 'kiwi', 'grape', 'mango', 'peach', 'strawberry')\n"
     ]
    }
   ],
   "source": [
    "# 12. creating a new tuple by repeating the original tuple 3 times\n",
    "repeated_tuple = thistuple * 3\n",
    "print(\"This is the new tuple created by repeating the original tuple 3 times:\", repeated_tuple)"
   ]
  },
  {
   "cell_type": "code",
   "execution_count": null,
   "id": "1eb60149",
   "metadata": {},
   "outputs": [
    {
     "name": "stdout",
     "output_type": "stream",
     "text": [
      "This is the updated tuple after removing an item: ('apple', 'banana', 'cherry', 'orange', 'grape', 'mango', 'peach', 'strawberry', 'apple', 'banana', 'cherry', 'orange', 'grape', 'mango', 'peach', 'strawberry', 'apple', 'banana', 'cherry', 'orange', 'kiwi', 'grape', 'mango', 'peach', 'strawberry')\n"
     ]
    }
   ],
   "source": [
    "# 13. converting the repeated tuple to a list, removing an item from the list, and converting it back to a tuple\n",
    "y = list(repeated_tuple)\n",
    "y.remove(\"kiwi\")\n",
    "repeated_tuple = tuple(y)\n",
    "print(\"This is the updated tuple after removing an item:\", repeated_tuple)"
   ]
  },
  {
   "cell_type": "markdown",
   "id": "42343f3c",
   "metadata": {},
   "source": [
    "**June 3rd**"
   ]
  },
  {
   "cell_type": "code",
   "execution_count": null,
   "id": "f486c44f",
   "metadata": {},
   "outputs": [
    {
     "name": "stdout",
     "output_type": "stream",
     "text": [
      "{'banana', 'cherry', 'apple'}\n"
     ]
    }
   ],
   "source": [
    "#Python Sets\n",
    "thisset = {\"apple\", \"banana\", \"cherry\"}\n",
    "print(thisset)\n",
    "\n",
    "#they are unordered, changeable and unindexed (no duplicates)"
   ]
  },
  {
   "cell_type": "code",
   "execution_count": null,
   "id": "0cf61dfe",
   "metadata": {},
   "outputs": [
    {
     "name": "stdout",
     "output_type": "stream",
     "text": [
      "banana\n",
      "cherry\n",
      "apple\n"
     ]
    }
   ],
   "source": [
    "#Accessing set items\n",
    "thisset = {\"apple\", \"banana\", \"cherry\"}\n",
    "for x in thisset:\n",
    "    print(x)"
   ]
  },
  {
   "cell_type": "code",
   "execution_count": null,
   "id": "178891fd",
   "metadata": {},
   "outputs": [
    {
     "name": "stdout",
     "output_type": "stream",
     "text": [
      "{'orange', 'banana', 'cherry', 'apple'}\n"
     ]
    }
   ],
   "source": [
    "#Adding set items (using the add() method)\n",
    "thisset = {\"apple\", \"banana\", \"cherry\"}\n",
    "thisset.add(\"orange\")\n",
    "print(thisset)"
   ]
  },
  {
   "cell_type": "code",
   "execution_count": null,
   "id": "47c93e2f",
   "metadata": {},
   "outputs": [
    {
     "name": "stdout",
     "output_type": "stream",
     "text": [
      "{'papaya', 'cherry', 'mango', 'banana', 'apple', 'pineapple'}\n"
     ]
    }
   ],
   "source": [
    "#Using the update() method to add items from another set into the current set\n",
    "thisset = {\"apple\", \"banana\", \"cherry\"}\n",
    "tropical = {\"pineapple\", \"mango\", \"papaya\"}\n",
    "thisset.update(tropical)\n",
    "print(thisset)"
   ]
  },
  {
   "cell_type": "code",
   "execution_count": null,
   "id": "707d42f2",
   "metadata": {},
   "outputs": [
    {
     "name": "stdout",
     "output_type": "stream",
     "text": [
      "{'banana', 'cherry'}\n"
     ]
    }
   ],
   "source": [
    "#Removing items from a set\n",
    "#using the remove() method\n",
    "thisset = {\"apple\", \"banana\", \"cherry\"}\n",
    "thisset.remove(\"apple\")\n",
    "print(thisset)\n",
    "\n",
    "#if the item to remove does not exist, it will raise an error"
   ]
  },
  {
   "cell_type": "code",
   "execution_count": null,
   "id": "bfeb23a3",
   "metadata": {},
   "outputs": [
    {
     "name": "stdout",
     "output_type": "stream",
     "text": [
      "{'cherry', 'apple'}\n"
     ]
    }
   ],
   "source": [
    "#using the discard method\n",
    "thisset = {\"apple\", \"banana\", \"cherry\"}\n",
    "thisset.discard(\"banana\")\n",
    "print(thisset)\n",
    "\n",
    "#if the item to remove does not exist, it will not raise an error"
   ]
  },
  {
   "cell_type": "code",
   "execution_count": null,
   "id": "8a6785f3",
   "metadata": {},
   "outputs": [
    {
     "name": "stdout",
     "output_type": "stream",
     "text": [
      "{'cherry', 'apple'}\n"
     ]
    }
   ],
   "source": [
    "#using the pop method\n",
    "thisset = {\"apple\", \"banana\", \"cherry\"}\n",
    "thisset.pop()\n",
    "print(thisset) \n",
    "\n",
    "#removes the last item and its random so you'd never know which item is removed"
   ]
  },
  {
   "cell_type": "code",
   "execution_count": null,
   "id": "c2b1799b",
   "metadata": {},
   "outputs": [
    {
     "name": "stdout",
     "output_type": "stream",
     "text": [
      "set()\n"
     ]
    }
   ],
   "source": [
    "#using the clear() method\n",
    "thisset = {\"apple\", \"banana\", \"cherry\"}\n",
    "thisset.clear()\n",
    "print(thisset)  #this will print an empty set"
   ]
  },
  {
   "cell_type": "code",
   "execution_count": null,
   "id": "8065c2a2",
   "metadata": {},
   "outputs": [
    {
     "ename": "NameError",
     "evalue": "name 'thisset' is not defined",
     "output_type": "error",
     "traceback": [
      "\u001b[31m---------------------------------------------------------------------------\u001b[39m",
      "\u001b[31mNameError\u001b[39m                                 Traceback (most recent call last)",
      "\u001b[36mCell\u001b[39m\u001b[36m \u001b[39m\u001b[32mIn[12]\u001b[39m\u001b[32m, line 4\u001b[39m\n\u001b[32m      2\u001b[39m thisset = {\u001b[33m\"\u001b[39m\u001b[33mapple\u001b[39m\u001b[33m\"\u001b[39m, \u001b[33m\"\u001b[39m\u001b[33mbanana\u001b[39m\u001b[33m\"\u001b[39m, \u001b[33m\"\u001b[39m\u001b[33mcherry\u001b[39m\u001b[33m\"\u001b[39m}\n\u001b[32m      3\u001b[39m \u001b[38;5;28;01mdel\u001b[39;00m thisset\n\u001b[32m----> \u001b[39m\u001b[32m4\u001b[39m \u001b[38;5;28mprint\u001b[39m(\u001b[43mthisset\u001b[49m) \u001b[38;5;66;03m##this will raise an error because the set no longer exists\u001b[39;00m\n",
      "\u001b[31mNameError\u001b[39m: name 'thisset' is not defined"
     ]
    }
   ],
   "source": [
    "#using the del() keyword\n",
    "thisset = {\"apple\", \"banana\", \"cherry\"}\n",
    "del thisset\n",
    "print(thisset) #this will raise an error because the set no longer exists"
   ]
  },
  {
   "cell_type": "code",
   "execution_count": null,
   "id": "d60559bd",
   "metadata": {},
   "outputs": [
    {
     "name": "stdout",
     "output_type": "stream",
     "text": [
      "{'brand': 'Ford', 'model': 'Mustang', 'year': 1964}\n",
      "Ford\n"
     ]
    }
   ],
   "source": [
    "#Dictionairies, they are used to store data values in key:value pairs, they are ordered, changeable(mutable) and do not allow duplicates.\n",
    "\n",
    "#creating a dictionary\n",
    "thisdict = {\n",
    "    \"brand\":\"Ford\",\n",
    "    \"model\": \"Mustang\",\n",
    "    \"year\" : 1964\n",
    "}\n",
    "print(thisdict)\n",
    "\n",
    "#accessing items in a dictionary\n",
    "print(thisdict[\"brand\"])"
   ]
  },
  {
   "cell_type": "code",
   "execution_count": null,
   "id": "0da5ec54",
   "metadata": {},
   "outputs": [
    {
     "name": "stdout",
     "output_type": "stream",
     "text": [
      "{'brand': 'Ford', 'model': 'Mustang', 'year': 2020}\n"
     ]
    }
   ],
   "source": [
    "thisdict = {\n",
    "    \"brand\":\"Ford\",\n",
    "    \"model\": \"Mustang\",\n",
    "    \"year\" : 1964,\n",
    "    \"year\" : 2020 #the last value will be the one that is stored\n",
    "}\n",
    "\n",
    "print(thisdict)"
   ]
  },
  {
   "cell_type": "code",
   "execution_count": null,
   "id": "d69fb1ab",
   "metadata": {},
   "outputs": [
    {
     "name": "stdout",
     "output_type": "stream",
     "text": [
      "3\n"
     ]
    }
   ],
   "source": [
    "#Determining how many items a dictionary has\n",
    "Student = {\n",
    "    \"Name\" : \"Shahid\",\n",
    "    \"Branch\" : \"IT\",\n",
    "    \"Course\" : \"Ph.D\"\n",
    "}\n",
    "\n",
    "S = len(Student)\n",
    "print(S)"
   ]
  },
  {
   "cell_type": "code",
   "execution_count": null,
   "id": "2a6c3e2d",
   "metadata": {},
   "outputs": [
    {
     "name": "stdout",
     "output_type": "stream",
     "text": [
      "['red', 'white', 'blue']\n"
     ]
    }
   ],
   "source": [
    "#Storing different data types in a dictionary\n",
    "thisdict = {\n",
    "    \"brand\" : \"Ford\",\n",
    "    \"electric\" : False,\n",
    "    \"year\" : 1964,\n",
    "    \"colours\" : [\"red\", \"white\", \"blue\"]\n",
    "}\n",
    "\n",
    "E = thisdict[\"colours\"]\n",
    "print(E)"
   ]
  },
  {
   "cell_type": "code",
   "execution_count": null,
   "id": "ec65d1d9",
   "metadata": {},
   "outputs": [
    {
     "name": "stdout",
     "output_type": "stream",
     "text": [
      "dict_keys(['brand', 'model', 'year'])\n",
      "dict_keys(['brand', 'model', 'year', 'color'])\n"
     ]
    }
   ],
   "source": [
    "#Getting the keys of a dictionary\n",
    "car = {\n",
    "    \"brand\" : \"Ford\",\n",
    "    \"model\" : \"Mustang\",\n",
    "    \"year\" : 1964\n",
    "}\n",
    "\n",
    "x = car.keys()\n",
    "print(x) #before the change\n",
    "\n",
    "car[\"color\"] = \"white\"\n",
    "print(x) #after the change"
   ]
  },
  {
   "cell_type": "code",
   "execution_count": null,
   "id": "4aa43213",
   "metadata": {},
   "outputs": [
    {
     "name": "stdout",
     "output_type": "stream",
     "text": [
      "dict_values(['Ford', 'Mustang', 1964])\n",
      "dict_values(['Ford', 'Mustang', 2020])\n"
     ]
    }
   ],
   "source": [
    "#Getting the values\n",
    "car = {\n",
    "    \"brand\" : \"Ford\",\n",
    "    \"model\" : \"Mustang\",\n",
    "    \"year\" : 1964\n",
    "}\n",
    "\n",
    "x = car.values()\n",
    "print(x) #before the change\n",
    "\n",
    "car[\"year\"] = 2020\n",
    "print(x) #after the change"
   ]
  },
  {
   "cell_type": "code",
   "execution_count": null,
   "id": "0bb8b399",
   "metadata": {},
   "outputs": [
    {
     "name": "stdout",
     "output_type": "stream",
     "text": [
      "{'brand': 'Ford', 'model': 'Mustang', 'year': 1964}\n",
      "{'brand': 'Ford', 'model': 'Mustang', 'year': 2020}\n"
     ]
    }
   ],
   "source": [
    "#Updating a dictionary\n",
    "thisdict = {\n",
    "    \"brand\" : \"Ford\",\n",
    "    \"model\" : \"Mustang\",\n",
    "    \"year\" : 1964\n",
    "}\n",
    "\n",
    "print(thisdict)\n",
    "thisdict.update({\"year\" : 2020})\n",
    "print(thisdict)"
   ]
  },
  {
   "cell_type": "code",
   "execution_count": null,
   "id": "9d1015d5",
   "metadata": {},
   "outputs": [
    {
     "name": "stdout",
     "output_type": "stream",
     "text": [
      "{'brand': 'Ford', 'model': 'Mustang', 'year': 1964, 'color': 'red'}\n"
     ]
    }
   ],
   "source": [
    "#Adding dictionary items\n",
    "thisdict = {\n",
    "    \"brand\" : \"Ford\",\n",
    "    \"model\" : \"Mustang\",\n",
    "    \"year\" : 1964\n",
    "}\n",
    "\n",
    "thisdict[\"color\"] = \"red\"\n",
    "print(thisdict)"
   ]
  },
  {
   "cell_type": "code",
   "execution_count": null,
   "id": "117a1ca8",
   "metadata": {},
   "outputs": [
    {
     "name": "stdout",
     "output_type": "stream",
     "text": [
      "{'brand': 'Ford', 'year': 1964}\n"
     ]
    }
   ],
   "source": [
    "#Removing dictionary items\n",
    "#using the pop() method\n",
    "thisdict = {\n",
    "    \"brand\" : \"Ford\",\n",
    "    \"model\" : \"Mustang\",\n",
    "    \"year\" : 1964\n",
    "}\n",
    "\n",
    "thisdict.pop(\"model\")\n",
    "print(thisdict) #used only when refering to a key (we don't pop with values)"
   ]
  },
  {
   "cell_type": "code",
   "execution_count": null,
   "id": "54892f95",
   "metadata": {},
   "outputs": [
    {
     "name": "stdout",
     "output_type": "stream",
     "text": [
      "{'brand': 'Ford', 'model': 'Mustang'}\n"
     ]
    }
   ],
   "source": [
    "#using the popitem() method\n",
    "thisdict = {\n",
    "    \"brand\" : \"Ford\",\n",
    "    \"model\" : \"Mustang\",\n",
    "    \"year\" : 1964\n",
    "}\n",
    "\n",
    "thisdict.popitem() #removes the last inserted item\n",
    "print(thisdict)"
   ]
  },
  {
   "cell_type": "code",
   "execution_count": null,
   "id": "39204d1f",
   "metadata": {},
   "outputs": [
    {
     "name": "stdout",
     "output_type": "stream",
     "text": [
      "{'brand': 'Ford', 'model': 'Mustang', 'year': 1964, 'electric': False, 'colours': ['red', 'white', 'blue'], 'driver': 'Ben', 'passenger': 'Sarah'}\n"
     ]
    }
   ],
   "source": [
    "#Copying a dictionary\n",
    "thisdict = {\n",
    "    \"brand\" : \"Ford\",\n",
    "    \"model\" : \"Mustang\",\n",
    "    \"year\" : 1964,\n",
    "    \"electric\" : False,\n",
    "    \"colours\" : [\"red\", \"white\", \"blue\"],\n",
    "    \"driver\" : \"Ben\",\n",
    "    \"passenger\" : \"Sarah\"\n",
    "}\n",
    "\n",
    "newdict = thisdict.copy()\n",
    "print(newdict) #copies the entire dictionary"
   ]
  },
  {
   "cell_type": "markdown",
   "id": "ae812e44",
   "metadata": {},
   "source": [
    "**June 6:**\n",
    "**Assignment 4**"
   ]
  },
  {
   "cell_type": "code",
   "execution_count": null,
   "id": "e0ec85e4",
   "metadata": {},
   "outputs": [
    {
     "name": "stdout",
     "output_type": "stream",
     "text": [
      "Both friends know: {'Emma', 'Sophie'}\n"
     ]
    }
   ],
   "source": [
    "#Theodora Andy-Orlu Thomas\n",
    "\n",
    "#Task 1: Common Friends Finder\n",
    "friend_1 = {\"John\", \"Emma\", \"Paul\", \"Sophie\"}\n",
    "friend_2 = {\"Liam\", \"Emma\", \"Sophie\", \"Mike\"}\n",
    "\n",
    "#Printing the names that both friends know\n",
    "common_friends = friend_1 & friend_2\n",
    "print(\"Both friends know:\", common_friends )"
   ]
  },
  {
   "cell_type": "code",
   "execution_count": null,
   "id": "bbb96e43",
   "metadata": {},
   "outputs": [
    {
     "name": "stdout",
     "output_type": "stream",
     "text": [
      "Friend one only knows: {'John', 'Paul'}\n"
     ]
    }
   ],
   "source": [
    "#Printing the names that only friend one knows\n",
    "only_friend1 =friend_1 - friend_2\n",
    "print(\"Friend one only knows:\", only_friend1)"
   ]
  },
  {
   "cell_type": "code",
   "execution_count": null,
   "id": "c055f2e3",
   "metadata": {},
   "outputs": [
    {
     "name": "stdout",
     "output_type": "stream",
     "text": [
      "All unique names: {'Mike', 'John', 'Emma', 'Sophie', 'Paul', 'Liam'}\n"
     ]
    }
   ],
   "source": [
    "#Printing the names that either friends know (all unique names)\n",
    "all_unique_names = friend_1 | friend_2\n",
    "print(\"All unique names:\", all_unique_names)"
   ]
  },
  {
   "cell_type": "code",
   "execution_count": 45,
   "id": "7e215f12",
   "metadata": {},
   "outputs": [
    {
     "name": "stdout",
     "output_type": "stream",
     "text": [
      "My name is Theodora and I am 20 years old.\n",
      "The sum of 3 and 5 is 8\n"
     ]
    }
   ],
   "source": [
    "#reading\n",
    "age = 20\n",
    "txt = \"My name is Theodora and I am {} years old.\"\n",
    "D = txt.format(age)\n",
    "print(D)\n",
    "\n",
    "num1 = 3\n",
    "num2 = 5\n",
    "\n",
    "sum = num1 + num2\n",
    "print(\"The sum of {0} and {1} is {2}\".format(num1, num2, sum))"
   ]
  },
  {
   "cell_type": "markdown",
   "id": "c23fe962",
   "metadata": {},
   "source": [
    "**June 17:**"
   ]
  },
  {
   "cell_type": "code",
   "execution_count": 2,
   "id": "c479969a",
   "metadata": {},
   "outputs": [
    {
     "data": {
      "text/plain": [
       "False"
      ]
     },
     "execution_count": 2,
     "metadata": {},
     "output_type": "execute_result"
    }
   ],
   "source": [
    "bool(False)"
   ]
  },
  {
   "cell_type": "code",
   "execution_count": 4,
   "id": "7fd6ef39",
   "metadata": {},
   "outputs": [
    {
     "name": "stdout",
     "output_type": "stream",
     "text": [
      "b is greater than a\n"
     ]
    }
   ],
   "source": [
    "#if else\n",
    "a = 5\n",
    "b = 500\n",
    "if a > b:\n",
    "    print(\"a is greater than b\")\n",
    "else:\n",
    "    print(\"b is greater than a\")"
   ]
  },
  {
   "cell_type": "code",
   "execution_count": 6,
   "id": "5714c2e7",
   "metadata": {},
   "outputs": [
    {
     "name": "stdout",
     "output_type": "stream",
     "text": [
      "a is equal to b\n"
     ]
    }
   ],
   "source": [
    "#elif\n",
    "a = 500\n",
    "b = 500\n",
    "if b > a:\n",
    "    print(\"b is greater than a\")\n",
    "elif a == b:\n",
    "    print(\"a is equal to b\")"
   ]
  },
  {
   "cell_type": "code",
   "execution_count": 8,
   "id": "81e305af",
   "metadata": {},
   "outputs": [
    {
     "name": "stdout",
     "output_type": "stream",
     "text": [
      "a is greater than b\n"
     ]
    }
   ],
   "source": [
    "#else\n",
    "a = 500\n",
    "b = 50\n",
    "if b > a:\n",
    "    print(\"b is greater than a\")\n",
    "elif a == b:\n",
    "    print(\"a is equal to b\")\n",
    "else:\n",
    "    print(\"a is greater than b\")"
   ]
  },
  {
   "cell_type": "code",
   "execution_count": 9,
   "id": "57177287",
   "metadata": {},
   "outputs": [
    {
     "name": "stdout",
     "output_type": "stream",
     "text": [
      "a is greater than b\n"
     ]
    }
   ],
   "source": [
    "#short hand if\n",
    "a = 500\n",
    "b = 50\n",
    "if a > b: print(\"a is greater than b\")"
   ]
  },
  {
   "cell_type": "code",
   "execution_count": 10,
   "id": "5a67fa1c",
   "metadata": {},
   "outputs": [
    {
     "name": "stdout",
     "output_type": "stream",
     "text": [
      "a is greater than b\n"
     ]
    }
   ],
   "source": [
    "#short hand if else\n",
    "a = 500\n",
    "b = 50\n",
    "print(\"a is greater than b\") if a > b else print(\"b is greater than a\")"
   ]
  },
  {
   "cell_type": "code",
   "execution_count": 11,
   "id": "6f53edc0",
   "metadata": {},
   "outputs": [
    {
     "name": "stdout",
     "output_type": "stream",
     "text": [
      "a is equal to b\n"
     ]
    }
   ],
   "source": [
    "#multiple short hand if else\n",
    "a = 500\n",
    "b = 500\n",
    "print(\"a is greater than b\") if a > b else print(\"a is equal to b\") if a == b else print(\"b is greater than a\")"
   ]
  },
  {
   "cell_type": "code",
   "execution_count": null,
   "id": "c3d6efad",
   "metadata": {},
   "outputs": [
    {
     "name": "stdout",
     "output_type": "stream",
     "text": [
      "Both conditions are True\n"
     ]
    }
   ],
   "source": [
    "#and statement\n",
    "a = 500\n",
    "b = 50\n",
    "c = 1000\n",
    "if a > b and c > a:\n",
    "    print(\"Both conditions are True\") #all conditions tested have to be met for it to work"
   ]
  },
  {
   "cell_type": "code",
   "execution_count": 15,
   "id": "3c3dbf8a",
   "metadata": {},
   "outputs": [
    {
     "name": "stdout",
     "output_type": "stream",
     "text": [
      "At least one of the conditions is True\n"
     ]
    }
   ],
   "source": [
    "#or statement\n",
    "a = 500\n",
    "b = 50\n",
    "c = 100\n",
    "if a > b or c > a:\n",
    "    print(\"At least one of the conditions is True\") #only one condition has to be met for it to work"
   ]
  },
  {
   "cell_type": "code",
   "execution_count": 23,
   "id": "51300f85",
   "metadata": {},
   "outputs": [],
   "source": [
    "#nested if\n",
    "x = 5\n",
    "y = 1\n",
    "if x > 10:\n",
    "    print(\"x is greater than 10\")\n",
    "    if y > 5:\n",
    "        print(\"y is greater than 5\")\n",
    "    else:\n",
    "        print(\"y is not greater than 5\") #the program stops where the first if condition is not met"
   ]
  },
  {
   "cell_type": "code",
   "execution_count": 22,
   "id": "8f892295",
   "metadata": {},
   "outputs": [
    {
     "name": "stdout",
     "output_type": "stream",
     "text": [
      "The number is positive\n"
     ]
    }
   ],
   "source": [
    "#checks if number is positive, negative or zero\n",
    "num = int(input(\"Enter a number: \"))\n",
    "if num > 0:\n",
    "    if num == 0:\n",
    "        print(\"The number is zero\")\n",
    "    else:\n",
    "        print(\"The number is positive\")\n",
    "else:\n",
    "    print(\"The number is negative\")"
   ]
  },
  {
   "cell_type": "markdown",
   "id": "d1502141",
   "metadata": {},
   "source": [
    "Python Logical Conditions – Beginner Assignment\n",
    "Submission Format: Screenshot of Code + Output from Jupyter Notebook\n",
    "\n",
    "Objectives:\n",
    "Practice Python if, elif, else statements\n",
    "Use comparison and logical operators (==, !=, <, >, and, or, not)\n",
    "Apply nested if logic\n",
    "Build confidence in reading input, making decisions, and displaying output\n",
    "Instructions:\n",
    "Write and run each task in Jupyter Notebook.\n",
    "\n",
    "After each task, take a screenshot showing:\n",
    "The code you wrote\n",
    "The output generated\n",
    "Submit all screenshots in a single PDF or Word document or as image files in a folder.\n",
    "\n",
    "Part 1: Basic If Statements\n",
    "Task 1:\n",
    "Write a program that checks if a number is positive, negative, or zero.\n",
    "\n",
    "\n",
    "Part 2: Comparison & Logical Operators\n",
    "Task 2:\n",
    "Check if a person is eligible to vote.\n",
    "(Rule: Age must be 18 or older)\n",
    "\n",
    "Task 3:\n",
    "\n",
    "Check if a student passed.\n",
    "(Passing mark: 50 or above)\n",
    "\n",
    " Part 3: Using and , or , not\n",
    "\n",
    "Task 4:\n",
    "Check if a number is between 10 and 20 (inclusive).\n",
    "\n",
    "\n",
    "Task 5:\n",
    "Login system.\n",
    "Ask for username and password.\n",
    "Only allow access if both are correct.\n",
    "(Hint: Expected username = 'admin', password = '1234')\n",
    "\n",
    "\n",
    "Part 4: Nested If Statements\n",
    "Task 6:\n",
    "Check voter registration eligibility:\n",
    "If age ≥ 18 → ask if they have a national ID\n",
    "If yes → print “You can register to vote.”\n",
    "If no → print “You need a national ID to register.”\n",
    "Else → print “You are too young to vote.”\n",
    "\n",
    "\n",
    "Task 7:\n",
    "Write a grading program:\n",
    "90–100 → A\n",
    "80–89 → B\n",
    "70–79 → C\n",
    "60–69 → D\n",
    "Below 60 → F"
   ]
  },
  {
   "cell_type": "markdown",
   "id": "b4d4bbe2",
   "metadata": {},
   "source": [
    "**Assignment 6:**"
   ]
  },
  {
   "cell_type": "code",
   "execution_count": null,
   "id": "ebecaa95",
   "metadata": {},
   "outputs": [
    {
     "name": "stdout",
     "output_type": "stream",
     "text": [
      "The number is positive.\n"
     ]
    }
   ],
   "source": [
    "#task 1: writing a program that checks if a number is positive, negative or zero\n",
    "num = float(input(\"Enter a number: \"))\n",
    "if num > 0:\n",
    "    print(\"The number is positive.\")\n",
    "elif num < 0:\n",
    "    print(\"The number is negative\")\n",
    "else:\n",
    "    print(\"The number is zero.\")"
   ]
  },
  {
   "cell_type": "code",
   "execution_count": 6,
   "id": "e5f47238",
   "metadata": {},
   "outputs": [
    {
     "name": "stdout",
     "output_type": "stream",
     "text": [
      "You are eligible to vote.\n"
     ]
    }
   ],
   "source": [
    "#task 2: checking if a person is eligible to vote (must be 18 or older)\n",
    "age = int(input(\"Enter your age: \"))\n",
    "if age >= 18:\n",
    "    print(\"You are eligible to vote.\")\n",
    "else:\n",
    "    print(\"You are not eligible to vote. You must be 18 or older.\")"
   ]
  },
  {
   "cell_type": "code",
   "execution_count": 7,
   "id": "ebce5157",
   "metadata": {},
   "outputs": [
    {
     "name": "stdout",
     "output_type": "stream",
     "text": [
      "You passed the exam.\n"
     ]
    }
   ],
   "source": [
    "#task 3: check is a student passed an exam (passing mark is 50 or above)\n",
    "marks = float(input(\"Enter your mark: \"))\n",
    "if marks >= 50:\n",
    "    print(\"You passed the exam.\")\n",
    "else: \n",
    "    print(\"You failed the exam you need to score at lease 5o to pass.\")"
   ]
  },
  {
   "cell_type": "code",
   "execution_count": 9,
   "id": "c2e0ebb3",
   "metadata": {},
   "outputs": [
    {
     "name": "stdout",
     "output_type": "stream",
     "text": [
      "The number is not between 10 and 20.\n"
     ]
    }
   ],
   "source": [
    "#task 4: checking if a number is between 10 and 20 (inclusive)\n",
    "number = float(input(\"Enter a number: \"))\n",
    "if number >= 10 and number <= 20:\n",
    "    print(\"The number is between 10 and 20.\")\n",
    "else:\n",
    "    print(\"The number is not between 10 and 20.\")"
   ]
  },
  {
   "cell_type": "code",
   "execution_count": 10,
   "id": "3a2a94fd",
   "metadata": {},
   "outputs": [
    {
     "name": "stdout",
     "output_type": "stream",
     "text": [
      "Access granted. Welcome!\n"
     ]
    }
   ],
   "source": [
    "#task 5: create a login system that asks for username and password, only allowing access if both are correct\n",
    "#(Hint: Expected username = 'admin', password = '1234')\n",
    "\n",
    "username = input(\"Enter your username: \")\n",
    "password = input(\"Enter your password: \")\n",
    "if username == \"admin\" and password == \"1234\":\n",
    "    print(\"Access granted. Welcome!\")\n",
    "else:\n",
    "    print(\"Access denied. Incorrect username or password.\")"
   ]
  },
  {
   "cell_type": "code",
   "execution_count": 11,
   "id": "dc02eaf9",
   "metadata": {},
   "outputs": [
    {
     "name": "stdout",
     "output_type": "stream",
     "text": [
      "You can register to vote.\n"
     ]
    }
   ],
   "source": [
    "#task 6: Check voter registration eligibility:\n",
    "'''If age ≥ 18 → ask if they have a national ID\n",
    "If yes → print “You can register to vote.”\n",
    "If no → print “You need a national ID to register.”\n",
    "Else → print “You are too young to vote.”'''\n",
    "\n",
    "age = int(input(\"Enter your age: \"))\n",
    "if age >= 18:\n",
    "    has_id = input(\"Do you have a national ID? (yes/no):\").lower()\n",
    "    if has_id == \"yes\":\n",
    "        print(\"You can register to vote.\")\n",
    "    else:\n",
    "        print(\"You need a national ID to register.\")\n",
    "else:\n",
    "    print(\"You are too young to vote.\")"
   ]
  },
  {
   "cell_type": "code",
   "execution_count": 13,
   "id": "a9823561",
   "metadata": {},
   "outputs": [
    {
     "name": "stdout",
     "output_type": "stream",
     "text": [
      "Grade A\n"
     ]
    }
   ],
   "source": [
    "#task 7: write a grading program\n",
    "'''Write a grading program:\n",
    "90–100 → A\n",
    "80–89 → B\n",
    "70–79 → C\n",
    "60–69 → D\n",
    "Below 60 → F'''\n",
    "\n",
    "score = float(input(\"Enter exam score: \"))\n",
    "if score >= 90 and score <= 100:\n",
    "    print(\"Grade A\")\n",
    "elif score >= 80 and score <= 89:\n",
    "    print(\"Grade B\")\n",
    "elif score >= 70 and score <= 79:\n",
    "    print(\"Grade C\")\n",
    "elif score >= 60 and score <= 69:\n",
    "    print(\"Grade D\")\n",
    "elif score >= 0 and score < 60:\n",
    "    print(\"Grade F\")\n",
    "else:\n",
    "    print(\"Invalid score. Please enter a score between 0 and 100\")"
   ]
  },
  {
   "cell_type": "markdown",
   "id": "55acedec",
   "metadata": {},
   "source": [
    "**June 19:**"
   ]
  },
  {
   "cell_type": "code",
   "execution_count": 16,
   "id": "2a631185",
   "metadata": {},
   "outputs": [
    {
     "name": "stdout",
     "output_type": "stream",
     "text": [
      "The first element is not greater than the second element\n"
     ]
    }
   ],
   "source": [
    "#if statement with a list\n",
    "\n",
    "list1 = [1, 2, 3, 4, 5]\n",
    "if list1[0] >list1[1]:\n",
    "    print(\"The first element is greater than the second element\")\n",
    "else:\n",
    "    print(\"The first element is not greater than the second element\")"
   ]
  },
  {
   "cell_type": "code",
   "execution_count": null,
   "id": "18be88e2",
   "metadata": {},
   "outputs": [
    {
     "name": "stdout",
     "output_type": "stream",
     "text": [
      "1\n",
      "2\n",
      "3\n",
      "4\n",
      "5\n"
     ]
    }
   ],
   "source": [
    "#While loop\n",
    "i = 1\n",
    "while i < 6:\n",
    "    print(i)\n",
    "    i += 1  #incrementing i by 1 each time the loop runs"
   ]
  },
  {
   "cell_type": "code",
   "execution_count": 18,
   "id": "412cc4b8",
   "metadata": {},
   "outputs": [
    {
     "name": "stdout",
     "output_type": "stream",
     "text": [
      "1\n",
      "2\n"
     ]
    }
   ],
   "source": [
    "#while loop with break statement\n",
    "i = 1\n",
    "while i < 6:\n",
    "    if i == 3:\n",
    "        break  #breaks the loop when i is equal to 3\n",
    "    print(i)\n",
    "    i += 1"
   ]
  },
  {
   "cell_type": "code",
   "execution_count": 19,
   "id": "ee92d5f3",
   "metadata": {},
   "outputs": [
    {
     "name": "stdout",
     "output_type": "stream",
     "text": [
      "1\n",
      "2\n",
      "4\n",
      "5\n"
     ]
    }
   ],
   "source": [
    "#while loop with continue statement\n",
    "i = 1\n",
    "while i < 6:\n",
    "    if i == 3:\n",
    "        i += 1\n",
    "        continue #skips the rest of the code inside the loop when i is equal to 3\n",
    "    print(i)\n",
    "    i += 1"
   ]
  },
  {
   "cell_type": "code",
   "execution_count": 20,
   "id": "ec2b29e1",
   "metadata": {},
   "outputs": [
    {
     "name": "stdout",
     "output_type": "stream",
     "text": [
      "1\n",
      "2\n",
      "3\n",
      "4\n",
      "5\n",
      "i is no longer less than 6\n"
     ]
    }
   ],
   "source": [
    "#while loop with else\n",
    "i = 1\n",
    "while i < 6:\n",
    "    print(i)\n",
    "    i += 1\n",
    "else:\n",
    "    print(\"i is no longer less than 6\")"
   ]
  },
  {
   "cell_type": "code",
   "execution_count": 21,
   "id": "729cafc4",
   "metadata": {},
   "outputs": [
    {
     "name": "stdout",
     "output_type": "stream",
     "text": [
      "Found the number 7 at index 3\n"
     ]
    }
   ],
   "source": [
    "#while loop with list\n",
    "list = [4, 5, 6, 7, 8]\n",
    "s = 7\n",
    "i = 0\n",
    "while i < len(list):\n",
    "    if list[i] == s:\n",
    "        print(\"Found the number\", s, \"at index\", i)\n",
    "        break\n",
    "    i += 1\n",
    "else:\n",
    "    print(\"The number\", s, \"was not found in the list\")"
   ]
  },
  {
   "cell_type": "code",
   "execution_count": 22,
   "id": "b8f70e07",
   "metadata": {},
   "outputs": [
    {
     "name": "stdout",
     "output_type": "stream",
     "text": [
      "apple\n",
      "banana\n",
      "cherry\n",
      "date\n",
      "elderberry\n",
      "fig\n",
      "grape\n"
     ]
    }
   ],
   "source": [
    "#for loop\n",
    "fruits = [\"apple\", \"banana\", \"cherry\", \"date\", \"elderberry\", \"fig\", \"grape\"]\n",
    "for fruit in fruits:\n",
    "    print(fruit)"
   ]
  },
  {
   "cell_type": "code",
   "execution_count": 23,
   "id": "7a088ac3",
   "metadata": {},
   "outputs": [
    {
     "name": "stdout",
     "output_type": "stream",
     "text": [
      "b\n",
      "a\n",
      "n\n",
      "a\n",
      "n\n",
      "a\n"
     ]
    }
   ],
   "source": [
    "#for loop through a letter\n",
    "for letter in \"banana\":\n",
    "    print(letter)"
   ]
  },
  {
   "cell_type": "code",
   "execution_count": 24,
   "id": "31997473",
   "metadata": {},
   "outputs": [
    {
     "name": "stdout",
     "output_type": "stream",
     "text": [
      "0\n",
      "1\n",
      "2\n",
      "3\n",
      "4\n",
      "5\n"
     ]
    }
   ],
   "source": [
    "#range function\n",
    "for i in range(6):\n",
    "    print(i)"
   ]
  },
  {
   "cell_type": "code",
   "execution_count": 25,
   "id": "f9d7ddc7",
   "metadata": {},
   "outputs": [
    {
     "name": "stdout",
     "output_type": "stream",
     "text": [
      "2\n",
      "3\n",
      "4\n",
      "5\n"
     ]
    }
   ],
   "source": [
    "#range with start and end\n",
    "for i in range(2, 6):\n",
    "    print(i)"
   ]
  },
  {
   "cell_type": "code",
   "execution_count": 26,
   "id": "ba33c784",
   "metadata": {},
   "outputs": [
    {
     "name": "stdout",
     "output_type": "stream",
     "text": [
      "2\n",
      "5\n",
      "8\n",
      "11\n",
      "14\n",
      "17\n",
      "20\n",
      "23\n",
      "26\n",
      "29\n"
     ]
    }
   ],
   "source": [
    "#range with start, end and step\n",
    "for i in range(2, 30, 3):\n",
    "    print(i)"
   ]
  },
  {
   "cell_type": "code",
   "execution_count": 27,
   "id": "e2688434",
   "metadata": {},
   "outputs": [
    {
     "name": "stdout",
     "output_type": "stream",
     "text": [
      "red apple\n",
      "red banana\n",
      "red cherry\n",
      "big apple\n",
      "big banana\n",
      "big cherry\n",
      "tasty apple\n",
      "tasty banana\n",
      "tasty cherry\n"
     ]
    }
   ],
   "source": [
    "#nested for loop\n",
    "adj = [\"red\", \"big\", \"tasty\"]\n",
    "fruits = [\"apple\", \"banana\", \"cherry\"]\n",
    "for a in adj:\n",
    "    for b in fruits:\n",
    "        print(a, b)"
   ]
  },
  {
   "cell_type": "markdown",
   "id": "bd94143a",
   "metadata": {},
   "source": [
    "**July 3rd:**"
   ]
  },
  {
   "cell_type": "code",
   "execution_count": 1,
   "id": "1014ea66",
   "metadata": {},
   "outputs": [
    {
     "name": "stdout",
     "output_type": "stream",
     "text": [
      "Welcome to GFG\n"
     ]
    }
   ],
   "source": [
    "#simple python function\n",
    "def fun():\n",
    "    print(\"Welcome to GFG\")\n",
    "    \n",
    "    #driver code to call function\n",
    "fun()"
   ]
  },
  {
   "cell_type": "code",
   "execution_count": null,
   "id": "b589bc14",
   "metadata": {},
   "outputs": [
    {
     "name": "stdout",
     "output_type": "stream",
     "text": [
      "odd\n"
     ]
    }
   ],
   "source": [
    "#arguments in function\n",
    "def evenOdd(x=10):\n",
    "    if (x % 2 == 0):\n",
    "        print(\"even\")\n",
    "    else:\n",
    "        print(\"odd\")\n",
    "#driver code to call the function\n",
    "evenOdd(5) #if empyt it prints even because the default value of x is 10 which is even"
   ]
  },
  {
   "cell_type": "code",
   "execution_count": null,
   "id": "a94465f5",
   "metadata": {},
   "outputs": [
    {
     "name": "stdout",
     "output_type": "stream",
     "text": [
      "x: 10\n",
      "y: 50\n"
     ]
    }
   ],
   "source": [
    "#default arguments\n",
    "def myFun(x,y=50):\n",
    "    print(\"x:\", x)\n",
    "    print(\"y:\", y)\n",
    "\n",
    "#driver code (we call myFun() with only one argument)\n",
    "myFun(10) #y will be 50 by default\n"
   ]
  },
  {
   "cell_type": "code",
   "execution_count": null,
   "id": "db9101a7",
   "metadata": {},
   "outputs": [
    {
     "name": "stdout",
     "output_type": "stream",
     "text": [
      "Geeks Practice\n",
      "Geeks Practice\n"
     ]
    }
   ],
   "source": [
    "#keyword arguments\n",
    "def student(firstname, lastname):\n",
    "    print(firstname, lastname)\n",
    "\n",
    "#keyword arguments\n",
    "student(firstname = 'Geeks', lastname = 'Practice')\n",
    "student(lastname = 'Practice', firstname = 'Geeks') #regardless of the order of the arguments, it will still print the default order because we used keyword arguments"
   ]
  },
  {
   "cell_type": "code",
   "execution_count": 9,
   "id": "28ec9417",
   "metadata": {},
   "outputs": [
    {
     "name": "stdout",
     "output_type": "stream",
     "text": [
      "4\n",
      "16\n"
     ]
    }
   ],
   "source": [
    "#the return statement\n",
    "def square_value(num):\n",
    "    '''This function returns the square of the entered number'''\n",
    "    return num ** 2\n",
    "\n",
    "print(square_value(2))\n",
    "print(square_value(-4))"
   ]
  },
  {
   "cell_type": "code",
   "execution_count": 10,
   "id": "3f9dc25c",
   "metadata": {},
   "outputs": [
    {
     "name": "stdout",
     "output_type": "stream",
     "text": [
      "apple\n",
      "banana\n",
      "cherry\n"
     ]
    }
   ],
   "source": [
    "def my_function(food):\n",
    "    for x in food:\n",
    "        print(x)\n",
    "\n",
    "fruits = [\"apple\", \"banana\", \"cherry\"]\n",
    "my_function(fruits)"
   ]
  },
  {
   "cell_type": "code",
   "execution_count": 12,
   "id": "063b13c6",
   "metadata": {},
   "outputs": [
    {
     "name": "stdout",
     "output_type": "stream",
     "text": [
      "I love Python Programming\n"
     ]
    }
   ],
   "source": [
    "#python file handling\n",
    "\n",
    "#opening a file\n",
    "#the open() function to open the file \"myfile.txt\"\n",
    "#(same directory) in read mode and store\n",
    "#its reference in the variable file1\n",
    "\n",
    "file1 = open(\"myfile.txt\")\n",
    "\n",
    "#reading from the file\n",
    "print(file1.read())\n",
    "\n",
    "file1.close()"
   ]
  },
  {
   "cell_type": "code",
   "execution_count": 15,
   "id": "efbfcd62",
   "metadata": {},
   "outputs": [],
   "source": [
    "#writing to a file\n",
    "file1 = open(\"myfile.txt\", \"a\") #open the file in append mode \n",
    "#\"r\" would open it in read mode and \"w\" would open it in write mode (overwriting the file)\n",
    "file1.write(\"\\nAnd I am learning Python.\") #writing to the file\n",
    "file1.close() #closing the file"
   ]
  },
  {
   "cell_type": "markdown",
   "id": "20420d0e",
   "metadata": {},
   "source": [
    "**July 8th:**"
   ]
  },
  {
   "cell_type": "code",
   "execution_count": 1,
   "id": "563198a3",
   "metadata": {},
   "outputs": [
    {
     "name": "stdout",
     "output_type": "stream",
     "text": [
      "I lov\n"
     ]
    }
   ],
   "source": [
    "#reading parts of the file\n",
    "file1 = open(\"myfile.txt\",\"r\") #open the file in read mode\n",
    "print(file1.read(5))  #reading the first 5 characters"
   ]
  },
  {
   "cell_type": "code",
   "execution_count": 5,
   "id": "219ecb39",
   "metadata": {},
   "outputs": [
    {
     "name": "stdout",
     "output_type": "stream",
     "text": [
      "I love Python Programming\n",
      "\n"
     ]
    }
   ],
   "source": [
    "#reading only one line\n",
    "file1 = open(\"myfile.txt\", \"r\") #open the file in read mode\n",
    "print(file1.readline()) #reading the first line"
   ]
  },
  {
   "cell_type": "code",
   "execution_count": 20,
   "id": "a1a215ba",
   "metadata": {},
   "outputs": [
    {
     "name": "stdout",
     "output_type": "stream",
     "text": [
      "File deleted.\n",
      "The folder does not exist\n"
     ]
    }
   ],
   "source": [
    "#delete the file\n",
    "import os\n",
    "\n",
    "file1 = \"myfile.txt\"\n",
    "if os.path.exists(file1):\n",
    "    os.remove(file1)\n",
    "    print(\"File deleted.\")\n",
    "else:\n",
    "    print(\"File does not exist.\")\n",
    "\n",
    "#deleting a file that does not exist will raise an error\n",
    "\n",
    "#delete folder\n",
    "import os\n",
    "if os.path.exists(\"myfolder\"):\n",
    "    os.rmdir(\"myfolder\")  #remove the folder\n",
    "else:\n",
    "    print(\"The folder does not exist\")\n",
    "\n",
    "#"
   ]
  },
  {
   "cell_type": "code",
   "execution_count": 6,
   "id": "231737c6",
   "metadata": {},
   "outputs": [
    {
     "ename": "ZeroDivisionError",
     "evalue": "division by zero",
     "output_type": "error",
     "traceback": [
      "\u001b[31m---------------------------------------------------------------------------\u001b[39m",
      "\u001b[31mZeroDivisionError\u001b[39m                         Traceback (most recent call last)",
      "\u001b[36mCell\u001b[39m\u001b[36m \u001b[39m\u001b[32mIn[6]\u001b[39m\u001b[32m, line 6\u001b[39m\n\u001b[32m      4\u001b[39m a = \u001b[38;5;28mint\u001b[39m(\u001b[38;5;28minput\u001b[39m(\u001b[33m\"\u001b[39m\u001b[33mEnter a a: \u001b[39m\u001b[33m\"\u001b[39m))\n\u001b[32m      5\u001b[39m b = \u001b[38;5;28mint\u001b[39m(\u001b[38;5;28minput\u001b[39m(\u001b[33m\"\u001b[39m\u001b[33mEnter b: \u001b[39m\u001b[33m\"\u001b[39m))\n\u001b[32m----> \u001b[39m\u001b[32m6\u001b[39m c = \u001b[43ma\u001b[49m\u001b[43m/\u001b[49m\u001b[43mb\u001b[49m\n\u001b[32m      7\u001b[39m \u001b[38;5;28mprint\u001b[39m(\u001b[33m\"\u001b[39m\u001b[33ma/b = \u001b[39m\u001b[38;5;132;01m%d\u001b[39;00m\u001b[33m\"\u001b[39m %c)\n\u001b[32m      9\u001b[39m \u001b[38;5;66;03m#other code:\u001b[39;00m\n",
      "\u001b[31mZeroDivisionError\u001b[39m: division by zero"
     ]
    }
   ],
   "source": [
    "#error handling\n",
    "#zero division error\n",
    "\n",
    "a = int(input(\"Enter a a: \"))\n",
    "b = int(input(\"Enter b: \"))\n",
    "c = a/b\n",
    "print(\"a/b = %d\" %c)\n",
    "\n",
    "#other code:\n",
    "print(\"Hi am the other part of the program\")"
   ]
  },
  {
   "cell_type": "code",
   "execution_count": 7,
   "id": "9e008192",
   "metadata": {},
   "outputs": [
    {
     "name": "stdout",
     "output_type": "stream",
     "text": [
      "Can't divide by zero\n"
     ]
    }
   ],
   "source": [
    "#the try-except statement\n",
    "try:\n",
    "    a = int(input(\"Enter a: \"))\n",
    "    b = int(input(\"Enter b: \"))\n",
    "    c = a / b\n",
    "except:\n",
    "    print(\"Can't divide by zero\")"
   ]
  },
  {
   "cell_type": "code",
   "execution_count": 9,
   "id": "29055209",
   "metadata": {},
   "outputs": [
    {
     "name": "stdout",
     "output_type": "stream",
     "text": [
      "Can't divide by zero\n",
      "<class 'Exception'>\n"
     ]
    }
   ],
   "source": [
    "try:\n",
    "    a = int(input(\"Enter a: \"))\n",
    "    b = int(input(\"Enter b: \"))\n",
    "    c = a / b\n",
    "    print(\"a/b = %d\" % c)\n",
    "#using exception with except statement. If we print(Exception) it will return exception class\n",
    "\n",
    "except Exception:\n",
    "    print(\"Can't divide by zero\")\n",
    "    print(Exception)\n",
    "\n",
    "else:\n",
    "    print(\"Hi I am else block.\")"
   ]
  },
  {
   "cell_type": "code",
   "execution_count": 12,
   "id": "94fee6d5",
   "metadata": {},
   "outputs": [
    {
     "name": "stdout",
     "output_type": "stream",
     "text": [
      "File not found\n"
     ]
    }
   ],
   "source": [
    "try:\n",
    "    #this will throw an exception if the file does not exist\n",
    "    fileptr = open(\"file.txt\", \"r\")\n",
    "except IOError:\n",
    "    print(\"File not found\")\n",
    "else:\n",
    "    print(\"File opened successfully\")\n",
    "    fileptr.close()\n"
   ]
  },
  {
   "cell_type": "code",
   "execution_count": null,
   "id": "d6e6d098",
   "metadata": {},
   "outputs": [],
   "source": [
    "import os\n",
    "os.remove(\"file.txt\")  #removing the file after use\n",
    "\n",
    "#the IOError would then say file not found after running the delete code"
   ]
  },
  {
   "cell_type": "code",
   "execution_count": 1,
   "id": "a7f5d22c",
   "metadata": {},
   "outputs": [
    {
     "name": "stdout",
     "output_type": "stream",
     "text": [
      "Arithmetic or I/O Exception occurred\n"
     ]
    }
   ],
   "source": [
    "try:\n",
    "    file = open(\"myfile.txt\", \"r\")\n",
    "    a = 10 / 0  # Division by zero error\n",
    "except (ArithmeticError, IOError):\n",
    "    print(\"Arithmetic or I/O Exception occurred\")\n",
    "except :\n",
    "    print(\"No error exception\")\n",
    "else:\n",
    "    print(\"Successfully done.\")\n",
    "\n"
   ]
  },
  {
   "cell_type": "code",
   "execution_count": 16,
   "id": "9d0fc365",
   "metadata": {},
   "outputs": [
    {
     "name": "stdout",
     "output_type": "stream",
     "text": [
      "The file is closed\n",
      "Error\n"
     ]
    }
   ],
   "source": [
    "try:\n",
    "    fileptr = open(\"file2.txt\")\n",
    "    try:\n",
    "        fileptr.write(\"Hi I am good\")\n",
    "    finally:\n",
    "        fileptr.close()\n",
    "        print(\"The file is closed\")\n",
    "except:\n",
    "    print(\"Error\")\n"
   ]
  },
  {
   "cell_type": "code",
   "execution_count": null,
   "id": "0f6b189a",
   "metadata": {},
   "outputs": [],
   "source": [
    "#python modules\n",
    "#to have knowledge of modules"
   ]
  },
  {
   "cell_type": "markdown",
   "id": "2e290fe0",
   "metadata": {},
   "source": [
    "**July 10:**"
   ]
  },
  {
   "cell_type": "code",
   "execution_count": 3,
   "id": "0a355d79",
   "metadata": {},
   "outputs": [
    {
     "name": "stdout",
     "output_type": "stream",
     "text": [
      "[{'ID': '1', 'Course': 'Data Science', 'Name': 'Brian', 'Gender': 'Male', 'Age': '19'}, {'ID': '2', 'Course': 'International Relations', 'Name': 'Grace', 'Gender': 'Female', 'Age': '20'}, {'ID': '3', 'Course': 'Psychology', 'Name': 'Ben', 'Gender': 'Male', 'Age': '18'}]\n"
     ]
    }
   ],
   "source": [
    "#CSV Files\n",
    "import csv\n",
    "with open('students.csv', mode='r') as csvfile:\n",
    "    m = list(csv.DictReader(csvfile))\n",
    "print (m[:3])\n"
   ]
  },
  {
   "cell_type": "code",
   "execution_count": 4,
   "id": "1c5d04eb",
   "metadata": {},
   "outputs": [
    {
     "name": "stdout",
     "output_type": "stream",
     "text": [
      "[['ID', 'Course', 'Name', 'Gender', 'Age'], ['1', 'Data Science', 'Brian', 'Male', '19'], ['2', 'International Relations', 'Grace', 'Female', '20']]\n"
     ]
    }
   ],
   "source": [
    "#reading a csv file\n",
    "import csv\n",
    "with open('students.csv', mode='r') as csvfile:\n",
    "    m = list(csv.reader(csvfile))\n",
    "print (m[:3])"
   ]
  },
  {
   "cell_type": "code",
   "execution_count": 5,
   "id": "6ee2ce57",
   "metadata": {},
   "outputs": [],
   "source": [
    "#writing a csv file\n",
    "import csv\n",
    "with open('students.csv', 'w', newline = '') as csvfile:\n",
    "    fieldnames = ['ID', 'Course', 'Name', 'Gender', 'Age']\n",
    "    writer = csv.DictWriter(csvfile, fieldnames = fieldnames)\n",
    "    writer.writeheader()\n",
    "    writer.writerow({'ID':'6', 'Course':'APT', 'Name':'Alice', 'Gender':'Female', 'Age':'22'})\n",
    "    writer.writerow({'ID':'7', 'Course':'Accounting', 'Name':'Amaya', 'Gender':'Female', 'Age':'23'})"
   ]
  },
  {
   "cell_type": "markdown",
   "id": "5983c68a",
   "metadata": {},
   "source": [
    "**July 15**"
   ]
  },
  {
   "cell_type": "code",
   "execution_count": 1,
   "id": "7f4952cb",
   "metadata": {},
   "outputs": [
    {
     "name": "stdout",
     "output_type": "stream",
     "text": [
      "['ID', 'Course', 'Name', 'Gender', 'Age']\n",
      "['6', 'APT', 'Alice', 'Female', '22']\n",
      "['7', 'Accounting', 'Amaya', 'Female', '23']\n"
     ]
    }
   ],
   "source": [
    "#looping through rows\n",
    "import csv \n",
    "f = open('students.csv')\n",
    "csv_f = csv.reader(f)\n",
    "for row in csv_f:\n",
    "    print(row)"
   ]
  },
  {
   "cell_type": "code",
   "execution_count": 4,
   "id": "cd5c1801",
   "metadata": {},
   "outputs": [
    {
     "name": "stdout",
     "output_type": "stream",
     "text": [
      "['Name', 'Alice', 'Amaya']\n"
     ]
    }
   ],
   "source": [
    "import csv \n",
    "f = open('students.csv')\n",
    "csv_f = csv.reader(f)\n",
    "model_no = [] #in this, we create an empty list model_no\n",
    "for row in csv_f:\n",
    "    model_no.append(row[2])\n",
    "print(model_no)"
   ]
  },
  {
   "cell_type": "code",
   "execution_count": 5,
   "id": "ca422b1c",
   "metadata": {},
   "outputs": [
    {
     "name": "stdout",
     "output_type": "stream",
     "text": [
      "Name\n",
      "Alice\n",
      "Amaya\n"
     ]
    }
   ],
   "source": [
    "#extracting information from csv file\n",
    "import csv \n",
    "f = open('students.csv')\n",
    "csv_f = csv.reader(f)\n",
    "for row in csv_f:\n",
    "    print(row[2])"
   ]
  },
  {
   "cell_type": "code",
   "execution_count": 6,
   "id": "1af5a975",
   "metadata": {},
   "outputs": [
    {
     "name": "stdout",
     "output_type": "stream",
     "text": [
      "{'Alice', 'Amaya', 'Name'}\n"
     ]
    }
   ],
   "source": [
    "#converting lit to sets in csv file\n",
    "import csv \n",
    "f = open('students.csv')\n",
    "csv_f = csv.reader(f)\n",
    "model_no = [] #in this, we create an empty list model_no\n",
    "for row in csv_f:\n",
    "    model_no.append(row[2])\n",
    "print(set(model_no))"
   ]
  },
  {
   "cell_type": "code",
   "execution_count": 13,
   "id": "d3e44867",
   "metadata": {},
   "outputs": [
    {
     "data": {
      "text/plain": [
       "0        Apple\n",
       "1       Orange\n",
       "2    Pineapple\n",
       "dtype: object"
      ]
     },
     "execution_count": 13,
     "metadata": {},
     "output_type": "execute_result"
    }
   ],
   "source": [
    "#SERIES\n",
    "\n",
    "#create a series with an arbitrary list\n",
    "\n",
    "import pandas as pd\n",
    "fruits = ['Apple', 'Orange', 'Pineapple']\n",
    "pd.Series(fruits)"
   ]
  },
  {
   "cell_type": "code",
   "execution_count": 14,
   "id": "bdbb9c96",
   "metadata": {},
   "outputs": [
    {
     "data": {
      "text/plain": [
       "Fruit_1        Apple\n",
       "Fruit_2       Orange\n",
       "Fruit_3    Pineapple\n",
       "dtype: object"
      ]
     },
     "execution_count": 14,
     "metadata": {},
     "output_type": "execute_result"
    }
   ],
   "source": [
    "#specify an index to use when creating the series\n",
    "\n",
    "import pandas as pd\n",
    "fruits = ['Apple', 'Orange', 'Pineapple']\n",
    "pd.Series(fruits, index = ['Fruit_1', 'Fruit_2', 'Fruit_3'])"
   ]
  },
  {
   "cell_type": "code",
   "execution_count": null,
   "id": "cfa791fb",
   "metadata": {},
   "outputs": [
    {
     "data": {
      "text/plain": [
       "Crisps         Pringles\n",
       "Chocolate    Dairy Milk\n",
       "Candy          Skittles\n",
       "dtype: object"
      ]
     },
     "execution_count": 16,
     "metadata": {},
     "output_type": "execute_result"
    }
   ],
   "source": [
    "#series constructor can convert a dictionary as well, using the keys of the dictionary as its index\n",
    "snacks = {'Crisps': 'Pringles', 'Chocolate': 'Dairy Milk', 'Candy': 'Skittles'}\n",
    "pd.Series(snacks)"
   ]
  },
  {
   "cell_type": "code",
   "execution_count": 18,
   "id": "1f13ee67",
   "metadata": {},
   "outputs": [
    {
     "data": {
      "text/plain": [
       "Index(['Crisps', 'Chocolate', 'Candy'], dtype='object')"
      ]
     },
     "execution_count": 18,
     "metadata": {},
     "output_type": "execute_result"
    }
   ],
   "source": [
    "snacks = {'Crisps': 'Pringles', 'Chocolate': 'Dairy Milk', 'Candy': 'Skittles'}\n",
    "s = pd.Series(snacks)\n",
    "s.index"
   ]
  },
  {
   "cell_type": "code",
   "execution_count": 23,
   "id": "516be29b",
   "metadata": {},
   "outputs": [
    {
     "data": {
      "text/plain": [
       "0        Apple\n",
       "1       Orange\n",
       "2    Pineapple\n",
       "3         None\n",
       "dtype: object"
      ]
     },
     "execution_count": 23,
     "metadata": {},
     "output_type": "execute_result"
    }
   ],
   "source": [
    "#series examples\n",
    "#with strings\n",
    "fruits = ['Apple', 'Orange', 'Pineapple', None]\n",
    "pd.Series(fruits) #with strings the output is None"
   ]
  },
  {
   "cell_type": "code",
   "execution_count": null,
   "id": "0fcd9f36",
   "metadata": {},
   "outputs": [
    {
     "data": {
      "text/plain": [
       "0    18.0\n",
       "1    22.0\n",
       "2    25.0\n",
       "3    29.0\n",
       "4     NaN\n",
       "dtype: float64"
      ]
     },
     "execution_count": 22,
     "metadata": {},
     "output_type": "execute_result"
    }
   ],
   "source": [
    "#with integers\n",
    "age = [18, 22, 25, 29,None]\n",
    "pd.Series(age) #with integers the output is NaN"
   ]
  },
  {
   "cell_type": "code",
   "execution_count": 27,
   "id": "d13a470c",
   "metadata": {},
   "outputs": [
    {
     "data": {
      "text/plain": [
       "'Pineapple'"
      ]
     },
     "execution_count": 27,
     "metadata": {},
     "output_type": "execute_result"
    }
   ],
   "source": [
    "#querying a series\n",
    "import pandas as pd\n",
    "fruits = ['Apple', 'Orange', 'Pineapple']\n",
    "s = pd.Series(fruits, index = ['Apple', 'Orange', 'Pineapple'])\n",
    "s.iloc[2]"
   ]
  },
  {
   "cell_type": "code",
   "execution_count": null,
   "id": "6d1e1456",
   "metadata": {},
   "outputs": [
    {
     "name": "stdout",
     "output_type": "stream",
     "text": [
      "[(1, 'Alice', 25) (2, 'Bob', 30)]\n"
     ]
    }
   ],
   "source": [
    "#structured array\n",
    "import numpy as np\n",
    "data = np.array([(1, 'Alice', 25), (2, 'Bob', 30)], dtype=[('ID', 'i4'), ('Name', 'U10'), ('Age', 'i4')]) \n",
    "structured_array = np.array(data, dtype=[('ID', 'i4'), ('Name', 'U10'), ('Age', 'i4')])\n",
    "print(structured_array)"
   ]
  },
  {
   "cell_type": "code",
   "execution_count": 40,
   "id": "8db0072b",
   "metadata": {},
   "outputs": [
    {
     "name": "stdout",
     "output_type": "stream",
     "text": [
      "[(1, 'Alice', 25) (2, 'Bob', 30)]\n"
     ]
    }
   ],
   "source": [
    "#record array\n",
    "import numpy as np\n",
    "data = np.array([(1, 'Alice', 25), (2, 'Bob', 30)], dtype=[('ID', 'i4'), ('Name', 'U10'), ('Age', 'i4')])\n",
    "record_array = np.rec.array(data, dtype=[('ID', 'i4'), ('Name', 'U10'), ('Age', 'i4')])\n",
    "print(record_array)"
   ]
  },
  {
   "cell_type": "markdown",
   "id": "51b3a45a",
   "metadata": {},
   "source": [
    "**July 17:**\n",
    "- Group project."
   ]
  },
  {
   "cell_type": "markdown",
   "id": "0a441528",
   "metadata": {},
   "source": [
    "**July 22:**"
   ]
  },
  {
   "cell_type": "code",
   "execution_count": 3,
   "id": "ee027b9d",
   "metadata": {},
   "outputs": [
    {
     "data": {
      "text/plain": [
       "DatetimeIndex(['2013-01-01', '2013-01-02', '2013-01-03', '2013-01-04',\n",
       "               '2013-01-05', '2013-01-06'],\n",
       "              dtype='datetime64[ns]', freq='D')"
      ]
     },
     "execution_count": 3,
     "metadata": {},
     "output_type": "execute_result"
    }
   ],
   "source": [
    "#Creating a DataFrame\n",
    "\n",
    "import numpy as np\n",
    "import pandas as pd\n",
    "dates = pd.date_range('20130101', periods=6)\n",
    "dates"
   ]
  },
  {
   "cell_type": "code",
   "execution_count": 7,
   "id": "f5b41b23",
   "metadata": {},
   "outputs": [
    {
     "data": {
      "text/html": [
       "<div>\n",
       "<style scoped>\n",
       "    .dataframe tbody tr th:only-of-type {\n",
       "        vertical-align: middle;\n",
       "    }\n",
       "\n",
       "    .dataframe tbody tr th {\n",
       "        vertical-align: top;\n",
       "    }\n",
       "\n",
       "    .dataframe thead th {\n",
       "        text-align: right;\n",
       "    }\n",
       "</style>\n",
       "<table border=\"1\" class=\"dataframe\">\n",
       "  <thead>\n",
       "    <tr style=\"text-align: right;\">\n",
       "      <th></th>\n",
       "      <th>A</th>\n",
       "      <th>B</th>\n",
       "      <th>C</th>\n",
       "      <th>D</th>\n",
       "    </tr>\n",
       "  </thead>\n",
       "  <tbody>\n",
       "    <tr>\n",
       "      <th>2013-01-01</th>\n",
       "      <td>2.377042</td>\n",
       "      <td>0.151262</td>\n",
       "      <td>-1.240076</td>\n",
       "      <td>0.626815</td>\n",
       "    </tr>\n",
       "    <tr>\n",
       "      <th>2013-01-02</th>\n",
       "      <td>-0.025281</td>\n",
       "      <td>-1.325376</td>\n",
       "      <td>-1.573220</td>\n",
       "      <td>0.617380</td>\n",
       "    </tr>\n",
       "    <tr>\n",
       "      <th>2013-01-03</th>\n",
       "      <td>1.660752</td>\n",
       "      <td>1.556964</td>\n",
       "      <td>-2.856451</td>\n",
       "      <td>-1.596231</td>\n",
       "    </tr>\n",
       "    <tr>\n",
       "      <th>2013-01-04</th>\n",
       "      <td>0.189240</td>\n",
       "      <td>-1.852351</td>\n",
       "      <td>0.825756</td>\n",
       "      <td>0.691669</td>\n",
       "    </tr>\n",
       "    <tr>\n",
       "      <th>2013-01-05</th>\n",
       "      <td>-1.657065</td>\n",
       "      <td>1.392817</td>\n",
       "      <td>0.594684</td>\n",
       "      <td>-1.991722</td>\n",
       "    </tr>\n",
       "    <tr>\n",
       "      <th>2013-01-06</th>\n",
       "      <td>1.150709</td>\n",
       "      <td>0.239943</td>\n",
       "      <td>-1.295709</td>\n",
       "      <td>0.433798</td>\n",
       "    </tr>\n",
       "  </tbody>\n",
       "</table>\n",
       "</div>"
      ],
      "text/plain": [
       "                   A         B         C         D\n",
       "2013-01-01  2.377042  0.151262 -1.240076  0.626815\n",
       "2013-01-02 -0.025281 -1.325376 -1.573220  0.617380\n",
       "2013-01-03  1.660752  1.556964 -2.856451 -1.596231\n",
       "2013-01-04  0.189240 -1.852351  0.825756  0.691669\n",
       "2013-01-05 -1.657065  1.392817  0.594684 -1.991722\n",
       "2013-01-06  1.150709  0.239943 -1.295709  0.433798"
      ]
     },
     "execution_count": 7,
     "metadata": {},
     "output_type": "execute_result"
    }
   ],
   "source": [
    "import numpy as np\n",
    "import pandas as pd\n",
    "df = pd.DataFrame(np.random.randn(6,4), index=dates, columns=list('ABCD'))\n",
    "df"
   ]
  },
  {
   "cell_type": "code",
   "execution_count": 12,
   "id": "3f77c403",
   "metadata": {},
   "outputs": [
    {
     "data": {
      "text/html": [
       "<div>\n",
       "<style scoped>\n",
       "    .dataframe tbody tr th:only-of-type {\n",
       "        vertical-align: middle;\n",
       "    }\n",
       "\n",
       "    .dataframe tbody tr th {\n",
       "        vertical-align: top;\n",
       "    }\n",
       "\n",
       "    .dataframe thead th {\n",
       "        text-align: right;\n",
       "    }\n",
       "</style>\n",
       "<table border=\"1\" class=\"dataframe\">\n",
       "  <thead>\n",
       "    <tr style=\"text-align: right;\">\n",
       "      <th></th>\n",
       "      <th>A</th>\n",
       "      <th>B</th>\n",
       "      <th>C</th>\n",
       "      <th>D</th>\n",
       "      <th>E</th>\n",
       "      <th>F</th>\n",
       "    </tr>\n",
       "  </thead>\n",
       "  <tbody>\n",
       "    <tr>\n",
       "      <th>0</th>\n",
       "      <td>1</td>\n",
       "      <td>1970-01-01 00:00:00.020130102</td>\n",
       "      <td>1.0</td>\n",
       "      <td>3</td>\n",
       "      <td>test</td>\n",
       "      <td>foo</td>\n",
       "    </tr>\n",
       "    <tr>\n",
       "      <th>1</th>\n",
       "      <td>1</td>\n",
       "      <td>1970-01-01 00:00:00.020130102</td>\n",
       "      <td>1.0</td>\n",
       "      <td>3</td>\n",
       "      <td>train</td>\n",
       "      <td>foo</td>\n",
       "    </tr>\n",
       "    <tr>\n",
       "      <th>2</th>\n",
       "      <td>1</td>\n",
       "      <td>1970-01-01 00:00:00.020130102</td>\n",
       "      <td>1.0</td>\n",
       "      <td>3</td>\n",
       "      <td>test</td>\n",
       "      <td>foo</td>\n",
       "    </tr>\n",
       "    <tr>\n",
       "      <th>3</th>\n",
       "      <td>1</td>\n",
       "      <td>1970-01-01 00:00:00.020130102</td>\n",
       "      <td>1.0</td>\n",
       "      <td>3</td>\n",
       "      <td>train</td>\n",
       "      <td>foo</td>\n",
       "    </tr>\n",
       "  </tbody>\n",
       "</table>\n",
       "</div>"
      ],
      "text/plain": [
       "   A                             B    C  D      E    F\n",
       "0  1 1970-01-01 00:00:00.020130102  1.0  3   test  foo\n",
       "1  1 1970-01-01 00:00:00.020130102  1.0  3  train  foo\n",
       "2  1 1970-01-01 00:00:00.020130102  1.0  3   test  foo\n",
       "3  1 1970-01-01 00:00:00.020130102  1.0  3  train  foo"
      ]
     },
     "execution_count": 12,
     "metadata": {},
     "output_type": "execute_result"
    }
   ],
   "source": [
    "#Creating a DataFrame by passing a dict of objects that can be converted to series like:\n",
    "df2 = pd.DataFrame({'A' : 1,\n",
    "                    'B' : pd.Timestamp(20130102),\n",
    "                    'C' : pd.Series(1, index = list(range(4)), dtype = 'float32'),\n",
    "                    'D' : np.array([3] * 4, dtype = 'int32'),\n",
    "                    'E' : pd.Categorical([\"test\", \"train\", \"test\", \"train\"]),\n",
    "                    'F' : 'foo'})\n",
    "\n",
    "df2"
   ]
  },
  {
   "cell_type": "code",
   "execution_count": 1,
   "id": "a37e27af",
   "metadata": {},
   "outputs": [
    {
     "name": "stdout",
     "output_type": "stream",
     "text": [
      "          Student  Age Grade\n",
      "Student_1    John   20     A\n",
      "Student_2    Emma   22     B\n",
      "Student_3    Paul   21     C\n"
     ]
    }
   ],
   "source": [
    "#DATAFRAME EXAMPLE\n",
    "import pandas as pd\n",
    "names = pd.Series({'Student': 'John', 'Age': 20, 'Grade': 'A'})\n",
    "names_1 = pd.Series({'Student': 'Emma', 'Age': 22, 'Grade': 'B'})\n",
    "names_2 = pd.Series({'Student': 'Paul', 'Age': 21, 'Grade': 'C'})\n",
    "df = pd.DataFrame([names, names_1, names_2], index=['Student_1', 'Student_2', 'Student_3'])\n",
    "print(df)"
   ]
  },
  {
   "cell_type": "code",
   "execution_count": 2,
   "id": "82fa01c8",
   "metadata": {},
   "outputs": [
    {
     "data": {
      "text/plain": [
       "Student    John\n",
       "Age          20\n",
       "Grade         A\n",
       "Name: Student_1, dtype: object"
      ]
     },
     "execution_count": 2,
     "metadata": {},
     "output_type": "execute_result"
    }
   ],
   "source": [
    "#EXTRACTING VALUES FROM A DATAFRAME\n",
    "df.loc['Student_1']  # Extracting values from a specific row using loc"
   ]
  },
  {
   "cell_type": "code",
   "execution_count": 3,
   "id": "2021b6da",
   "metadata": {},
   "outputs": [
    {
     "data": {
      "text/plain": [
       "np.int64(20)"
      ]
     },
     "execution_count": 3,
     "metadata": {},
     "output_type": "execute_result"
    }
   ],
   "source": [
    "df.loc['Student_1', 'Age']  # Extracting a specific value from a row and column"
   ]
  },
  {
   "cell_type": "code",
   "execution_count": 4,
   "id": "592a9cdc",
   "metadata": {},
   "outputs": [
    {
     "data": {
      "text/html": [
       "<div>\n",
       "<style scoped>\n",
       "    .dataframe tbody tr th:only-of-type {\n",
       "        vertical-align: middle;\n",
       "    }\n",
       "\n",
       "    .dataframe tbody tr th {\n",
       "        vertical-align: top;\n",
       "    }\n",
       "\n",
       "    .dataframe thead th {\n",
       "        text-align: right;\n",
       "    }\n",
       "</style>\n",
       "<table border=\"1\" class=\"dataframe\">\n",
       "  <thead>\n",
       "    <tr style=\"text-align: right;\">\n",
       "      <th></th>\n",
       "      <th>Grade</th>\n",
       "      <th>Age</th>\n",
       "    </tr>\n",
       "  </thead>\n",
       "  <tbody>\n",
       "    <tr>\n",
       "      <th>Student_1</th>\n",
       "      <td>A</td>\n",
       "      <td>20</td>\n",
       "    </tr>\n",
       "    <tr>\n",
       "      <th>Student_2</th>\n",
       "      <td>B</td>\n",
       "      <td>22</td>\n",
       "    </tr>\n",
       "    <tr>\n",
       "      <th>Student_3</th>\n",
       "      <td>C</td>\n",
       "      <td>21</td>\n",
       "    </tr>\n",
       "  </tbody>\n",
       "</table>\n",
       "</div>"
      ],
      "text/plain": [
       "          Grade  Age\n",
       "Student_1     A   20\n",
       "Student_2     B   22\n",
       "Student_3     C   21"
      ]
     },
     "execution_count": 4,
     "metadata": {},
     "output_type": "execute_result"
    }
   ],
   "source": [
    "df.loc[:, ['Grade', 'Age']]  # Extracting specific columns from all rows"
   ]
  },
  {
   "cell_type": "code",
   "execution_count": 7,
   "id": "8ae1b1d8",
   "metadata": {},
   "outputs": [
    {
     "data": {
      "text/html": [
       "<div>\n",
       "<style scoped>\n",
       "    .dataframe tbody tr th:only-of-type {\n",
       "        vertical-align: middle;\n",
       "    }\n",
       "\n",
       "    .dataframe tbody tr th {\n",
       "        vertical-align: top;\n",
       "    }\n",
       "\n",
       "    .dataframe thead th {\n",
       "        text-align: right;\n",
       "    }\n",
       "</style>\n",
       "<table border=\"1\" class=\"dataframe\">\n",
       "  <thead>\n",
       "    <tr style=\"text-align: right;\">\n",
       "      <th></th>\n",
       "      <th>Student</th>\n",
       "      <th>Age</th>\n",
       "      <th>Grade</th>\n",
       "      <th>Major</th>\n",
       "    </tr>\n",
       "  </thead>\n",
       "  <tbody>\n",
       "    <tr>\n",
       "      <th>Student_1</th>\n",
       "      <td>John</td>\n",
       "      <td>20</td>\n",
       "      <td>A</td>\n",
       "      <td>Film</td>\n",
       "    </tr>\n",
       "    <tr>\n",
       "      <th>Student_2</th>\n",
       "      <td>Emma</td>\n",
       "      <td>22</td>\n",
       "      <td>B</td>\n",
       "      <td>Psychology</td>\n",
       "    </tr>\n",
       "    <tr>\n",
       "      <th>Student_3</th>\n",
       "      <td>Paul</td>\n",
       "      <td>21</td>\n",
       "      <td>C</td>\n",
       "      <td>Design</td>\n",
       "    </tr>\n",
       "  </tbody>\n",
       "</table>\n",
       "</div>"
      ],
      "text/plain": [
       "          Student  Age Grade       Major\n",
       "Student_1    John   20     A        Film\n",
       "Student_2    Emma   22     B  Psychology\n",
       "Student_3    Paul   21     C      Design"
      ]
     },
     "execution_count": 7,
     "metadata": {},
     "output_type": "execute_result"
    }
   ],
   "source": [
    "df['Major'] = ['Film', 'Psychology', 'Design']  # Adding a new column to the DataFrame\n",
    "df"
   ]
  },
  {
   "cell_type": "code",
   "execution_count": 8,
   "id": "5ce02653",
   "metadata": {},
   "outputs": [
    {
     "data": {
      "text/html": [
       "<div>\n",
       "<style scoped>\n",
       "    .dataframe tbody tr th:only-of-type {\n",
       "        vertical-align: middle;\n",
       "    }\n",
       "\n",
       "    .dataframe tbody tr th {\n",
       "        vertical-align: top;\n",
       "    }\n",
       "\n",
       "    .dataframe thead th {\n",
       "        text-align: right;\n",
       "    }\n",
       "</style>\n",
       "<table border=\"1\" class=\"dataframe\">\n",
       "  <thead>\n",
       "    <tr style=\"text-align: right;\">\n",
       "      <th></th>\n",
       "      <th>Student</th>\n",
       "      <th>Age</th>\n",
       "      <th>Score</th>\n",
       "      <th>Department</th>\n",
       "    </tr>\n",
       "  </thead>\n",
       "  <tbody>\n",
       "    <tr>\n",
       "      <th>Student_1</th>\n",
       "      <td>John</td>\n",
       "      <td>20</td>\n",
       "      <td>A</td>\n",
       "      <td>Film</td>\n",
       "    </tr>\n",
       "    <tr>\n",
       "      <th>Student_2</th>\n",
       "      <td>Emma</td>\n",
       "      <td>22</td>\n",
       "      <td>B</td>\n",
       "      <td>Psychology</td>\n",
       "    </tr>\n",
       "    <tr>\n",
       "      <th>Student_3</th>\n",
       "      <td>Paul</td>\n",
       "      <td>21</td>\n",
       "      <td>C</td>\n",
       "      <td>Design</td>\n",
       "    </tr>\n",
       "  </tbody>\n",
       "</table>\n",
       "</div>"
      ],
      "text/plain": [
       "          Student  Age Score  Department\n",
       "Student_1    John   20     A        Film\n",
       "Student_2    Emma   22     B  Psychology\n",
       "Student_3    Paul   21     C      Design"
      ]
     },
     "execution_count": 8,
     "metadata": {},
     "output_type": "execute_result"
    }
   ],
   "source": [
    "df.rename(columns={'Major': 'Department', 'Grade' : 'Score'})  # Renaming a column"
   ]
  },
  {
   "cell_type": "code",
   "execution_count": 18,
   "id": "65e07f0d",
   "metadata": {},
   "outputs": [
    {
     "data": {
      "text/plain": [
       "Index(['Student', 'Age', 'Score', 'Focus'], dtype='object')"
      ]
     },
     "execution_count": 18,
     "metadata": {},
     "output_type": "execute_result"
    }
   ],
   "source": [
    "#using inplace\n",
    "df.rename(columns={'Department': 'Focus', 'Grade' : 'Score'}, inplace=True)  # Renaming a column with inplace\n",
    "df.columns # Displaying the columns of the DataFrame after renaming"
   ]
  },
  {
   "cell_type": "code",
   "execution_count": 20,
   "id": "f5ff5938",
   "metadata": {},
   "outputs": [
    {
     "data": {
      "text/plain": [
       "Index(['Student', 'Age', 'Score', 'Focus'], dtype='object')"
      ]
     },
     "execution_count": 20,
     "metadata": {},
     "output_type": "execute_result"
    }
   ],
   "source": [
    "df.rename(columns={'Department': 'Focus', 'Grade' : 'Score'}, inplace=False)  # Renaming a column with inplace\n",
    "df.columns # Displaying the columns of the DataFrame after renaming"
   ]
  },
  {
   "cell_type": "code",
   "execution_count": 26,
   "id": "dd3bbf75",
   "metadata": {},
   "outputs": [
    {
     "data": {
      "text/plain": [
       "Index(['Student', 'Score'], dtype='object')"
      ]
     },
     "execution_count": 26,
     "metadata": {},
     "output_type": "execute_result"
    }
   ],
   "source": [
    "#DROPPING A COLUMN\n",
    "df.drop('Age', axis=1, inplace=True)  # Dropping a column from the DataFrame\n",
    "df.columns"
   ]
  },
  {
   "cell_type": "code",
   "execution_count": 28,
   "id": "3c20560f",
   "metadata": {},
   "outputs": [
    {
     "data": {
      "text/html": [
       "<div>\n",
       "<style scoped>\n",
       "    .dataframe tbody tr th:only-of-type {\n",
       "        vertical-align: middle;\n",
       "    }\n",
       "\n",
       "    .dataframe tbody tr th {\n",
       "        vertical-align: top;\n",
       "    }\n",
       "\n",
       "    .dataframe thead th {\n",
       "        text-align: right;\n",
       "    }\n",
       "</style>\n",
       "<table border=\"1\" class=\"dataframe\">\n",
       "  <thead>\n",
       "    <tr style=\"text-align: right;\">\n",
       "      <th></th>\n",
       "      <th>Student</th>\n",
       "      <th>Score</th>\n",
       "    </tr>\n",
       "  </thead>\n",
       "  <tbody>\n",
       "    <tr>\n",
       "      <th>Student_1</th>\n",
       "      <td>John</td>\n",
       "      <td>A</td>\n",
       "    </tr>\n",
       "    <tr>\n",
       "      <th>Student_3</th>\n",
       "      <td>Paul</td>\n",
       "      <td>C</td>\n",
       "    </tr>\n",
       "  </tbody>\n",
       "</table>\n",
       "</div>"
      ],
      "text/plain": [
       "          Student Score\n",
       "Student_1    John     A\n",
       "Student_3    Paul     C"
      ]
     },
     "execution_count": 28,
     "metadata": {},
     "output_type": "execute_result"
    }
   ],
   "source": [
    "#DROPPING A ROW\n",
    "df.drop('Student_2', axis=0, inplace=True)\n",
    "df"
   ]
  },
  {
   "cell_type": "code",
   "execution_count": null,
   "id": "35017ed0",
   "metadata": {},
   "outputs": [
    {
     "data": {
      "text/html": [
       "<div>\n",
       "<style scoped>\n",
       "    .dataframe tbody tr th:only-of-type {\n",
       "        vertical-align: middle;\n",
       "    }\n",
       "\n",
       "    .dataframe tbody tr th {\n",
       "        vertical-align: top;\n",
       "    }\n",
       "\n",
       "    .dataframe thead th {\n",
       "        text-align: right;\n",
       "    }\n",
       "</style>\n",
       "<table border=\"1\" class=\"dataframe\">\n",
       "  <thead>\n",
       "    <tr style=\"text-align: right;\">\n",
       "      <th></th>\n",
       "      <th>Student</th>\n",
       "      <th>Score</th>\n",
       "    </tr>\n",
       "  </thead>\n",
       "  <tbody>\n",
       "    <tr>\n",
       "      <th>Student_1</th>\n",
       "      <td>John</td>\n",
       "      <td>A</td>\n",
       "    </tr>\n",
       "    <tr>\n",
       "      <th>Student_3</th>\n",
       "      <td>Paul</td>\n",
       "      <td>A</td>\n",
       "    </tr>\n",
       "  </tbody>\n",
       "</table>\n",
       "</div>"
      ],
      "text/plain": [
       "          Student Score\n",
       "Student_1    John     A\n",
       "Student_3    Paul     A"
      ]
     },
     "execution_count": 32,
     "metadata": {},
     "output_type": "execute_result"
    }
   ],
   "source": [
    "#QUERYING A DATAFRAME\n",
    "df['Score'] = 'A' \n",
    "df"
   ]
  },
  {
   "cell_type": "code",
   "execution_count": 38,
   "id": "abb70d52",
   "metadata": {},
   "outputs": [
    {
     "data": {
      "text/plain": [
       "np.int64(2)"
      ]
     },
     "execution_count": 38,
     "metadata": {},
     "output_type": "execute_result"
    }
   ],
   "source": [
    "data = df.where(df['Score'] == 'A') \n",
    "data\n",
    "data['Score'].count()\n"
   ]
  },
  {
   "cell_type": "code",
   "execution_count": null,
   "id": "309b67c9",
   "metadata": {},
   "outputs": [],
   "source": [
    "#Filter rows with NaN Values\n",
    "#You don't have any"
   ]
  },
  {
   "cell_type": "markdown",
   "id": "cb8321a1",
   "metadata": {},
   "source": [
    "**July 24:**"
   ]
  },
  {
   "cell_type": "code",
   "execution_count": 3,
   "id": "1d4a5fbb",
   "metadata": {},
   "outputs": [
    {
     "name": "stdout",
     "output_type": "stream",
     "text": [
      "      Name  Age         City\n",
      "0    Alice   25     New York\n",
      "1      Bob   30  Los Angeles\n",
      "2  Charlie   35      Chicago\n",
      "3    David   40      Houston\n",
      "      Name  Age         City\n",
      "1      Bob   30  Los Angeles\n",
      "2  Charlie   35      Chicago\n",
      "3    David   40      Houston\n"
     ]
    }
   ],
   "source": [
    "#querying a dataframe using logical operations\n",
    "import pandas as pd\n",
    "data = {\n",
    "    'Name': ['Alice', 'Bob', 'Charlie', 'David'],\n",
    "    'Age': [25, 30, 35, 40],\n",
    "    'City': ['New York', 'Los Angeles', 'Chicago', 'Houston']\n",
    "}\n",
    "\n",
    "df = pd.DataFrame(data)\n",
    "\n",
    "#display the dataframe\n",
    "print(df)\n",
    "\n",
    "\n",
    "print(df[df['Age'] > 25]) # Filter rows where Age is greater than 25"
   ]
  },
  {
   "cell_type": "code",
   "execution_count": 4,
   "id": "1a1388c9",
   "metadata": {},
   "outputs": [
    {
     "name": "stdout",
     "output_type": "stream",
     "text": [
      "  Name  Age         City\n",
      "1  Bob   30  Los Angeles\n"
     ]
    }
   ],
   "source": [
    "#using and condition\n",
    "print(df[(df['Age'] > 25) & (df['City'] == 'Los Angeles')])  # Filter rows where Age is greater than 25 and City is Los Angeles"
   ]
  },
  {
   "cell_type": "code",
   "execution_count": 5,
   "id": "eba3bc6d",
   "metadata": {},
   "outputs": [
    {
     "name": "stdout",
     "output_type": "stream",
     "text": [
      "      Name  Age         City\n",
      "1      Bob   30  Los Angeles\n",
      "2  Charlie   35      Chicago\n",
      "3    David   40      Houston\n"
     ]
    }
   ],
   "source": [
    "#using or condition\n",
    "print(df[(df['Age'] > 25) | (df['City'] == 'Chicago')])  # Filter rows where Age is greater than 25 or City is Chicago"
   ]
  },
  {
   "cell_type": "code",
   "execution_count": 6,
   "id": "468a603d",
   "metadata": {},
   "outputs": [
    {
     "name": "stdout",
     "output_type": "stream",
     "text": [
      "         Age         City\n",
      "Name                     \n",
      "Alice     25     New York\n",
      "Bob       30  Los Angeles\n",
      "Charlie   35      Chicago\n",
      "David     40      Houston\n"
     ]
    }
   ],
   "source": [
    "#indexing a dataframe\n",
    "print(df.set_index('Name'))  # Set 'Name' as the index of the DataFrame"
   ]
  },
  {
   "cell_type": "code",
   "execution_count": 7,
   "id": "99ce05a0",
   "metadata": {},
   "outputs": [
    {
     "name": "stdout",
     "output_type": "stream",
     "text": [
      "   index     Name  Age         City\n",
      "0      0    Alice   25     New York\n",
      "1      1      Bob   30  Los Angeles\n",
      "2      2  Charlie   35      Chicago\n",
      "3      3    David   40      Houston\n"
     ]
    }
   ],
   "source": [
    "#reset index of a dataframe\n",
    "df.reset_index(inplace=True)  # Reset the index of the DataFrame\n",
    "print(df)  # Display the DataFrame after resetting the index"
   ]
  },
  {
   "cell_type": "code",
   "execution_count": 8,
   "id": "8f62a784",
   "metadata": {},
   "outputs": [
    {
     "name": "stdout",
     "output_type": "stream",
     "text": [
      "    Make  Model   Year  Price  Mileage  Condition\n",
      "0  False  False  False  False    False      False\n",
      "1  False  False  False  False    False      False\n",
      "2  False   True  False   True    False      False\n",
      "3  False  False  False  False    False      False\n",
      "4  False  False  False   True    False      False\n",
      "5  False  False   True  False     True      False\n",
      "6  False  False  False  False    False      False\n",
      "7  False  False  False  False     True      False\n",
      "8  False  False   True  False    False       True\n",
      "9  False  False  False  False    False      False\n"
     ]
    }
   ],
   "source": [
    "#handling missing values in pandas\n",
    "import pandas as pd\n",
    "df=pd.read_csv('cars.csv')  # Load a CSV file into a DataFrame\n",
    "print(df.isnull())  # Display the last few rows of the DataFrame showing missing values\n",
    "\n",
    "#True means the value is missing"
   ]
  },
  {
   "cell_type": "code",
   "execution_count": 9,
   "id": "b6de4a83",
   "metadata": {},
   "outputs": [
    {
     "name": "stdout",
     "output_type": "stream",
     "text": [
      "   Make  Model   Year  Price  Mileage  Condition\n",
      "0  True   True   True   True     True       True\n",
      "1  True   True   True   True     True       True\n",
      "2  True  False   True  False     True       True\n",
      "3  True   True   True   True     True       True\n",
      "4  True   True   True  False     True       True\n",
      "5  True   True  False   True    False       True\n",
      "6  True   True   True   True     True       True\n",
      "7  True   True   True   True    False       True\n",
      "8  True   True  False   True     True      False\n",
      "9  True   True   True   True     True       True\n"
     ]
    }
   ],
   "source": [
    "#not null value\n",
    "print(df.notnull())  # Display the last few rows of the DataFrame showing non-null values"
   ]
  },
  {
   "cell_type": "code",
   "execution_count": 10,
   "id": "1e1ff5cd",
   "metadata": {},
   "outputs": [
    {
     "name": "stdout",
     "output_type": "stream",
     "text": [
      "        Make     Model    Year    Price   Mileage  Condition\n",
      "0     Toyota     Camry  2010.0  20000.0  120000.0       Good\n",
      "1      Honda     Civic  2012.0  18000.0  110000.0  Excellent\n",
      "2       Ford         0  2011.0      0.0  105000.0       Good\n",
      "3  Chevrolet    Malibu  2013.0  22000.0   90000.0       Fair\n",
      "4        BMW        X5  2014.0      0.0   80000.0       Good\n",
      "5     Toyota   Corolla     0.0  21000.0       0.0  Excellent\n",
      "6      Honda    Accord  2016.0  19000.0  100000.0       Good\n",
      "7       Ford    Fusion  2017.0  18000.0       0.0       Fair\n",
      "8  Chevrolet    Impala     0.0  23000.0   85000.0          0\n",
      "9        BMW  3 Series  2019.0  46000.0   75000.0       Good\n"
     ]
    }
   ],
   "source": [
    "#filling missing values\n",
    "df.fillna(0, inplace=True)  # Fill missing values with 0\n",
    "print(df)  # Display the DataFrame after filling missing values"
   ]
  },
  {
   "cell_type": "code",
   "execution_count": 11,
   "id": "17d39fc0",
   "metadata": {},
   "outputs": [
    {
     "name": "stdout",
     "output_type": "stream",
     "text": [
      "          Value\n",
      "Category       \n",
      "A            40\n",
      "B            60\n",
      "C            50\n"
     ]
    }
   ],
   "source": [
    "#GROUPBY IN pandas\n",
    "import pandas as pd\n",
    "\n",
    "#GENERATE data\n",
    "data = {\n",
    "    'Category': ['A', 'B', 'A', 'B', 'C'],  \n",
    "    'Value': [10, 20, 30, 40, 50]\n",
    "}\n",
    "df = pd.DataFrame(data)  # Create a DataFrame from the data\n",
    "\n",
    "# Group the DataFrame by 'Category' and calculate the sum of 'Value' for each category\n",
    "grouped_df = df.groupby('Category').sum()  # Group by 'Category' and\n",
    "\n",
    "#Calculate the sum of 'Value' for each category\n",
    "print(grouped_df)  # Display the grouped DataFrame"
   ]
  },
  {
   "cell_type": "code",
   "execution_count": 12,
   "id": "d90b9f7a",
   "metadata": {},
   "outputs": [
    {
     "name": "stdout",
     "output_type": "stream",
     "text": [
      "          Value\n",
      "Category       \n",
      "A          20.0\n",
      "B          30.0\n",
      "C          50.0\n"
     ]
    }
   ],
   "source": [
    "#Calculate mean of each group\n",
    "grouped_mean = df.groupby('Category').mean()  # Calculate the mean of 'Value' for each category\n",
    "print(grouped_mean)  # Display the mean of each group"
   ]
  },
  {
   "cell_type": "code",
   "execution_count": 13,
   "id": "f5ca281b",
   "metadata": {},
   "outputs": [
    {
     "name": "stdout",
     "output_type": "stream",
     "text": [
      "         Value          \n",
      "           sum  mean max\n",
      "Category                \n",
      "A           40  20.0  30\n",
      "B           60  30.0  40\n",
      "C           50  50.0  50\n"
     ]
    }
   ],
   "source": [
    "#calculate using aggregate function\n",
    "grouped_agg = df.groupby('Category').agg({'Value': ['sum', 'mean', 'max']})  # Aggregate with multiple functions\n",
    "print(grouped_agg)  # Display the aggregated DataFrame"
   ]
  },
  {
   "cell_type": "markdown",
   "id": "b1f90d25",
   "metadata": {},
   "source": [
    "**Assignment 7:**"
   ]
  },
  {
   "cell_type": "code",
   "execution_count": 16,
   "id": "24b68baf",
   "metadata": {},
   "outputs": [
    {
     "name": "stdout",
     "output_type": "stream",
     "text": [
      "     Restaurant     Location  Rating Price_Level  Delivery\n",
      "0    Burger Hub     Downtown     4.2          $$      True\n",
      "1  Pizza Palace       Suburb     3.8          $$      True\n",
      "2   Sushi World     Downtown     NaN         $$$     False\n",
      "3     Taco Town  City Center     4.5           $      True\n",
      "4  Curry Corner       Suburb     4.0          $$      True\n",
      "5   Noodle Nest  City Center     3.5           $     False\n",
      "6   Grill House     Downtown     4.1         $$$     False\n",
      "7   Pasta Place       Suburb     3.9          $$      True\n",
      "8  Veggie Villa  City Center     NaN           $      True\n",
      "9     Donut Den     Downtown     4.3           $     False\n"
     ]
    }
   ],
   "source": [
    "import pandas as pd\n",
    "import numpy as np\n",
    "\n",
    "# Creating and Loading the dataset\n",
    "data = {\n",
    "    'Restaurant': ['Burger Hub', 'Pizza Palace', 'Sushi World', 'Taco Town', 'Curry Corner',\n",
    "                   'Noodle Nest', 'Grill House', 'Pasta Place', 'Veggie Villa', 'Donut Den'],\n",
    "    'Location': ['Downtown', 'Suburb', 'Downtown', 'City Center', 'Suburb',\n",
    "                 'City Center', 'Downtown', 'Suburb', 'City Center', 'Downtown'],\n",
    "    'Rating': [4.2, 3.8, np.nan, 4.5, 4.0, 3.5, 4.1, 3.9, np.nan, 4.3],\n",
    "    'Price_Level': ['$$', '$$', '$$$', '$', '$$', '$', '$$$', '$$', '$', '$'],\n",
    "    'Delivery': [True, True, False, True, True, False, False, True, True, False]\n",
    "}\n",
    "\n",
    "df = pd.DataFrame(data)\n",
    "print(df)"
   ]
  },
  {
   "cell_type": "code",
   "execution_count": 17,
   "id": "981c74e9",
   "metadata": {},
   "outputs": [
    {
     "name": "stdout",
     "output_type": "stream",
     "text": [
      "     Restaurant  Rating  High_Rating Price_Level  Delivery  \\\n",
      "0    Burger Hub     4.2         True          $$      True   \n",
      "1  Pizza Palace     3.8        False          $$      True   \n",
      "2   Sushi World     NaN        False         $$$     False   \n",
      "3     Taco Town     4.5         True           $      True   \n",
      "4  Curry Corner     4.0         True          $$      True   \n",
      "5   Noodle Nest     3.5        False           $     False   \n",
      "6   Grill House     4.1         True         $$$     False   \n",
      "7   Pasta Place     3.9        False          $$      True   \n",
      "8  Veggie Villa     NaN        False           $      True   \n",
      "9     Donut Den     4.3         True           $     False   \n",
      "\n",
      "   Expensive_No_Delivery  \n",
      "0                  False  \n",
      "1                  False  \n",
      "2                   True  \n",
      "3                  False  \n",
      "4                  False  \n",
      "5                  False  \n",
      "6                   True  \n",
      "7                  False  \n",
      "8                  False  \n",
      "9                  False  \n"
     ]
    }
   ],
   "source": [
    "#TASK 1: Logical Columns Creation\n",
    "# Add logical column: High Rating (>= 4.0)\n",
    "df['High_Rating'] = df['Rating'] >= 4.0\n",
    "\n",
    "# Add logical column: Expensive and No Delivery\n",
    "df['Expensive_No_Delivery'] = (df['Price_Level'] == '$$$') & (df['Delivery'] == False)\n",
    "\n",
    "print(df[['Restaurant', 'Rating', 'High_Rating', 'Price_Level', 'Delivery', 'Expensive_No_Delivery']])"
   ]
  },
  {
   "cell_type": "code",
   "execution_count": 18,
   "id": "039f4006",
   "metadata": {},
   "outputs": [
    {
     "name": "stdout",
     "output_type": "stream",
     "text": [
      "     Restaurant Location  Rating Price_Level  Delivery  High_Rating  \\\n",
      "1  Pizza Palace   Suburb     3.8          $$      True        False   \n",
      "4  Curry Corner   Suburb     4.0          $$      True         True   \n",
      "7   Pasta Place   Suburb     3.9          $$      True        False   \n",
      "\n",
      "   Expensive_No_Delivery  \n",
      "1                  False  \n",
      "4                  False  \n",
      "7                  False  \n"
     ]
    }
   ],
   "source": [
    "#TASK 2: Querying the DataFrame\n",
    "\n",
    "#Restaurants in 'Suburb' that offer delivery\n",
    "suburb_delivery = df.query(\"Location == 'Suburb' and Delivery == True\")\n",
    "print(suburb_delivery)"
   ]
  },
  {
   "cell_type": "code",
   "execution_count": 19,
   "id": "65c35761",
   "metadata": {},
   "outputs": [
    {
     "name": "stdout",
     "output_type": "stream",
     "text": [
      "    Restaurant  Location  Rating Price_Level  Delivery  High_Rating  \\\n",
      "6  Grill House  Downtown     4.1         $$$     False         True   \n",
      "\n",
      "   Expensive_No_Delivery  \n",
      "6                   True  \n"
     ]
    }
   ],
   "source": [
    "#Restaurants with Rating > 4.0 and Price_Level == '$$$'\n",
    "high_end = df[(df['Rating'] > 4.0) & (df['Price_Level'] == '$$$')]\n",
    "print(high_end)"
   ]
  },
  {
   "cell_type": "code",
   "execution_count": 20,
   "id": "cd4f91fe",
   "metadata": {},
   "outputs": [
    {
     "name": "stdout",
     "output_type": "stream",
     "text": [
      "Missing values summary:\n",
      " Restaurant               0\n",
      "Location                 0\n",
      "Rating                   2\n",
      "Price_Level              0\n",
      "Delivery                 0\n",
      "High_Rating              0\n",
      "Expensive_No_Delivery    0\n",
      "dtype: int64\n"
     ]
    }
   ],
   "source": [
    "#TASK 3: Handling Missing Values\n",
    "\n",
    "# Count of missing values\n",
    "missing_summary = df.isnull().sum()\n",
    "print(\"Missing values summary:\\n\", missing_summary)"
   ]
  },
  {
   "cell_type": "code",
   "execution_count": 21,
   "id": "2aba0b74",
   "metadata": {},
   "outputs": [
    {
     "name": "stdout",
     "output_type": "stream",
     "text": [
      "Shape after dropping rows with missing values: (8, 7)\n"
     ]
    }
   ],
   "source": [
    "# Drop rows with missing values\n",
    "df_dropped = df.dropna()\n",
    "print(\"Shape after dropping rows with missing values:\", df_dropped.shape)"
   ]
  },
  {
   "cell_type": "code",
   "execution_count": 22,
   "id": "47bc3318",
   "metadata": {},
   "outputs": [
    {
     "name": "stdout",
     "output_type": "stream",
     "text": [
      "     Restaurant  Rating  Rating_Filled\n",
      "0    Burger Hub     4.2         4.2000\n",
      "1  Pizza Palace     3.8         3.8000\n",
      "2   Sushi World     NaN         4.0375\n",
      "3     Taco Town     4.5         4.5000\n",
      "4  Curry Corner     4.0         4.0000\n",
      "5   Noodle Nest     3.5         3.5000\n",
      "6   Grill House     4.1         4.1000\n",
      "7   Pasta Place     3.9         3.9000\n",
      "8  Veggie Villa     NaN         4.0375\n",
      "9     Donut Den     4.3         4.3000\n"
     ]
    }
   ],
   "source": [
    "# Fill missing Rating values with mean\n",
    "mean_rating = df['Rating'].mean()\n",
    "df['Rating_Filled'] = df['Rating'].fillna(mean_rating)\n",
    "print(df[['Restaurant', 'Rating', 'Rating_Filled']])"
   ]
  },
  {
   "cell_type": "code",
   "execution_count": 23,
   "id": "457d57a1",
   "metadata": {},
   "outputs": [
    {
     "name": "stdout",
     "output_type": "stream",
     "text": [
      "             Avg_Rating  Delivery_Rate\n",
      "Location                              \n",
      "City Center    4.012500       0.666667\n",
      "Downtown       4.159375       0.250000\n",
      "Suburb         3.900000       1.000000\n"
     ]
    }
   ],
   "source": [
    "#TASK 4: GroupBy and Aggregation\n",
    "# Group by Location and compute average rating and delivery percentage\n",
    "grouped = df.groupby('Location').agg({\n",
    "    'Rating_Filled': 'mean',\n",
    "    'Delivery': 'mean'  # proportion of restaurants offering delivery\n",
    "})\n",
    "\n",
    "# Rename for clarity\n",
    "grouped.rename(columns={'Rating_Filled': 'Avg_Rating', 'Delivery': 'Delivery_Rate'}, inplace=True)\n",
    "print(grouped)"
   ]
  },
  {
   "cell_type": "markdown",
   "id": "b5b9279f",
   "metadata": {},
   "source": [
    "**July 29:**"
   ]
  },
  {
   "cell_type": "code",
   "execution_count": 1,
   "id": "5ccbd2cd",
   "metadata": {},
   "outputs": [
    {
     "name": "stdout",
     "output_type": "stream",
     "text": [
      "excellent    A+\n",
      "excellent    A-\n",
      "good         B-\n",
      "good         B+\n",
      "ok           C-\n",
      "Name: Grades, dtype: category\n",
      "Categories (6, object): ['A+', 'A-', 'B+', 'B-', 'C+', 'C-']\n"
     ]
    }
   ],
   "source": [
    "#nominal scales example\n",
    "\n",
    "import csv\n",
    "import pandas as pd\n",
    "\n",
    "df = pd.DataFrame(['A+', 'A-', 'B-', 'B+', 'C-', 'C+'], index = ['excellent', 'excellent', 'good', 'good', 'ok', 'ok'])\n",
    "df.rename(columns = {0:'Grades'}, inplace = True)\n",
    "a = df['Grades'].astype('category').head()\n",
    "print(a)"
   ]
  },
  {
   "cell_type": "code",
   "execution_count": 12,
   "id": "55addf9b",
   "metadata": {},
   "outputs": [
    {
     "name": "stdout",
     "output_type": "stream",
     "text": [
      "['A+', 'A-', 'B-', 'B+', 'C-', 'C+']\n",
      "Categories (6, object): ['A+' < 'A-' < 'B-' < 'B+' < 'C-' < 'C+']\n"
     ]
    }
   ],
   "source": [
    "#ordinal scales example\n",
    "\n",
    "import csv\n",
    "import pandas as pd\n",
    "\n",
    "df = pd.DataFrame(['A+', 'A-', 'B-', 'B+', 'C-', 'C+'], index = ['excellent', 'excellent', 'good', 'good', 'ok', 'ok'])\n",
    "df.rename(columns = {0:'Grades'}, inplace = True)\n",
    "grades = pd.Categorical(df['Grades'], categories=['A+', 'A-', 'B-', 'B+', 'C-', 'C+'], ordered=True)\n",
    "print(grades)\n"
   ]
  },
  {
   "cell_type": "code",
   "execution_count": 4,
   "id": "d293a50f",
   "metadata": {},
   "outputs": [
    {
     "data": {
      "text/plain": [
       "0    a\n",
       "1    b\n",
       "2    c\n",
       "3    a\n",
       "dtype: object"
      ]
     },
     "execution_count": 4,
     "metadata": {},
     "output_type": "execute_result"
    }
   ],
   "source": [
    "#scales example\n",
    "import pandas as pd\n",
    "s = pd.Series([\"a\", \"b\", \"c\", \"a\"])\n",
    "s"
   ]
  },
  {
   "cell_type": "code",
   "execution_count": 5,
   "id": "9d760660",
   "metadata": {},
   "outputs": [
    {
     "data": {
      "text/plain": [
       "0    a\n",
       "1    b\n",
       "2    c\n",
       "3    a\n",
       "dtype: category\n",
       "Categories (3, object): ['a', 'b', 'c']"
      ]
     },
     "execution_count": 5,
     "metadata": {},
     "output_type": "execute_result"
    }
   ],
   "source": [
    "s2 = s.astype('category')\n",
    "s2"
   ]
  },
  {
   "cell_type": "code",
   "execution_count": 9,
   "id": "6d5785d5",
   "metadata": {},
   "outputs": [
    {
     "name": "stdout",
     "output_type": "stream",
     "text": [
      "Make          BMW  Chevrolet     Ford    Honda   Toyota\n",
      "Model                                                  \n",
      "3 Series  46000.0        NaN      NaN      NaN      NaN\n",
      "Accord        NaN        NaN      NaN  19000.0      NaN\n",
      "Camry         NaN        NaN      NaN      NaN  20000.0\n",
      "Civic         NaN        NaN      NaN  18000.0      NaN\n",
      "Corolla       NaN        NaN      NaN      NaN  21000.0\n",
      "Fusion        NaN        NaN  18000.0      NaN      NaN\n",
      "Impala        NaN    23000.0      NaN      NaN      NaN\n",
      "Malibu        NaN    22000.0      NaN      NaN      NaN\n"
     ]
    },
    {
     "name": "stderr",
     "output_type": "stream",
     "text": [
      "C:\\Users\\NICOLE\\AppData\\Local\\Temp\\ipykernel_26132\\1939807752.py:6: FutureWarning: The provided callable <function mean at 0x00000189D33B5260> is currently using DataFrameGroupBy.mean. In a future version of pandas, the provided callable will be used directly. To keep current behavior pass the string \"mean\" instead.\n",
      "  a = df.pivot_table(values = 'Price' ,index = 'Model' ,columns = 'Make' ,aggfunc = np.mean)\n"
     ]
    }
   ],
   "source": [
    "# pivot table\n",
    "import pandas as pd\n",
    "import numpy as np\n",
    "\n",
    "df = pd.read_csv('cars.csv')\n",
    "a = df.pivot_table(values = 'Price' ,index = 'Model' ,columns = 'Make' ,aggfunc = np.mean)\n",
    "print(a)"
   ]
  },
  {
   "cell_type": "code",
   "execution_count": 18,
   "id": "1419cc86",
   "metadata": {},
   "outputs": [
    {
     "data": {
      "text/plain": [
       "Timestamp('2017-08-02 00:00:00')"
      ]
     },
     "execution_count": 18,
     "metadata": {},
     "output_type": "execute_result"
    }
   ],
   "source": [
    "# timestamps\n",
    "\n",
    "import pandas as pd\n",
    "import numpy as np\n",
    "\n",
    "pd.Timestamp('8-2-2017 03:22AM') # Creating a timestamp from a string\n",
    "pd.Timestamp('8-2-2017')"
   ]
  },
  {
   "cell_type": "code",
   "execution_count": 15,
   "id": "15626f25",
   "metadata": {},
   "outputs": [
    {
     "data": {
      "text/plain": [
       "Period('2017', 'Y-DEC')"
      ]
     },
     "execution_count": 15,
     "metadata": {},
     "output_type": "execute_result"
    }
   ],
   "source": [
    "# periods represents a single time span\n",
    "\n",
    "pd.Period('1/2017')\n",
    "pd.Period('31/1/2017')\n",
    "pd.Period('/2017')"
   ]
  },
  {
   "cell_type": "code",
   "execution_count": 20,
   "id": "5dcebe52",
   "metadata": {},
   "outputs": [
    {
     "data": {
      "text/plain": [
       "2016-09-01    a\n",
       "2015-08-01    b\n",
       "2017-01-02    c\n",
       "dtype: object"
      ]
     },
     "execution_count": 20,
     "metadata": {},
     "output_type": "execute_result"
    }
   ],
   "source": [
    "#DatetimeIndex is the index of the timestamp\n",
    "\n",
    "t1 = pd.Series(list('abc'), [pd.Timestamp('2016-09-01'), pd.Timestamp('2015-08-01'), pd.Timestamp('2017-01-02')])\n",
    "t1\n"
   ]
  },
  {
   "cell_type": "code",
   "execution_count": 21,
   "id": "a59a8d18",
   "metadata": {},
   "outputs": [
    {
     "data": {
      "text/plain": [
       "2017-01-01    m\n",
       "2015-01-01    p\n",
       "2017-09-01    l\n",
       "dtype: object"
      ]
     },
     "execution_count": 21,
     "metadata": {},
     "output_type": "execute_result"
    }
   ],
   "source": [
    "#PeriodIndex\n",
    "t2 = pd.Series(list('mpl'), [pd.Timestamp('2017-01'), pd.Timestamp('2015-01'), pd.Timestamp('2017-09')])\n",
    "t2"
   ]
  },
  {
   "cell_type": "code",
   "execution_count": 22,
   "id": "5d085529",
   "metadata": {},
   "outputs": [
    {
     "name": "stderr",
     "output_type": "stream",
     "text": [
      "C:\\Users\\NICOLE\\AppData\\Local\\Temp\\ipykernel_26132\\2236637095.py:5: UserWarning: Could not infer format, so each element will be parsed individually, falling back to `dateutil`. To ensure parsing is consistent and as-expected, please specify a format.\n",
      "  t.index = pd.to_datetime(t.index)  # Converting the index to datetime\n"
     ]
    }
   ],
   "source": [
    "#converting to datetime\n",
    "import pandas as pd\n",
    "date_1 = ['2 june 2019', '01/08/2017', '4-aug-2016']\n",
    "t = pd.DataFrame(index = date_1, columns = list('xy'))\n",
    "t.index = pd.to_datetime(t.index)  # Converting the index to datetime\n"
   ]
  },
  {
   "cell_type": "code",
   "execution_count": 23,
   "id": "eed590ef",
   "metadata": {},
   "outputs": [
    {
     "data": {
      "text/plain": [
       "Timedelta('2 days 00:00:00')"
      ]
     },
     "execution_count": 23,
     "metadata": {},
     "output_type": "execute_result"
    }
   ],
   "source": [
    "# TimeDeltas\n",
    "pd.Timestamp('1/2/2017')-pd.Timestamp('1/3/2017')\n",
    "pd.Timestamp('1/3/2017')-pd.Timestamp('1/1/2017')"
   ]
  },
  {
   "cell_type": "code",
   "execution_count": 24,
   "id": "39d8c039",
   "metadata": {},
   "outputs": [
    {
     "name": "stdout",
     "output_type": "stream",
     "text": [
      "              role\n",
      "name              \n",
      "monika    director\n",
      "lalit   supervisor\n",
      "purva     designer\n",
      "          school\n",
      "name            \n",
      "monika       aps\n",
      "kamal        dav\n",
      "devashish    cqm\n"
     ]
    }
   ],
   "source": [
    "#merging dataframes\n",
    "# Creating the staff DataFrame\n",
    "staff_df = pd.DataFrame([\n",
    "    {'name': 'monika', 'role': 'director'},\n",
    "    {'name': 'lalit', 'role': 'supervisor'},\n",
    "    {'name': 'purva', 'role': 'designer'}\n",
    "])\n",
    "staff_df = staff_df.set_index('name')\n",
    "\n",
    "# Creating the student DataFrame\n",
    "student_df = pd.DataFrame([\n",
    "    {'name': 'monika', 'school': 'aps'},\n",
    "    {'name': 'kamal', 'school': 'dav'},\n",
    "    {'name': 'devashish', 'school': 'cqm'}\n",
    "])\n",
    "student_df = student_df.set_index('name')\n",
    "\n",
    "# Printing the dataframes\n",
    "print(staff_df)\n",
    "print(student_df)"
   ]
  },
  {
   "cell_type": "code",
   "execution_count": 25,
   "id": "1d3fa186",
   "metadata": {},
   "outputs": [
    {
     "data": {
      "text/html": [
       "<div>\n",
       "<style scoped>\n",
       "    .dataframe tbody tr th:only-of-type {\n",
       "        vertical-align: middle;\n",
       "    }\n",
       "\n",
       "    .dataframe tbody tr th {\n",
       "        vertical-align: top;\n",
       "    }\n",
       "\n",
       "    .dataframe thead th {\n",
       "        text-align: right;\n",
       "    }\n",
       "</style>\n",
       "<table border=\"1\" class=\"dataframe\">\n",
       "  <thead>\n",
       "    <tr style=\"text-align: right;\">\n",
       "      <th></th>\n",
       "      <th>role</th>\n",
       "      <th>school</th>\n",
       "    </tr>\n",
       "    <tr>\n",
       "      <th>name</th>\n",
       "      <th></th>\n",
       "      <th></th>\n",
       "    </tr>\n",
       "  </thead>\n",
       "  <tbody>\n",
       "    <tr>\n",
       "      <th>devashish</th>\n",
       "      <td>NaN</td>\n",
       "      <td>cqm</td>\n",
       "    </tr>\n",
       "    <tr>\n",
       "      <th>kamal</th>\n",
       "      <td>NaN</td>\n",
       "      <td>dav</td>\n",
       "    </tr>\n",
       "    <tr>\n",
       "      <th>lalit</th>\n",
       "      <td>supervisor</td>\n",
       "      <td>NaN</td>\n",
       "    </tr>\n",
       "    <tr>\n",
       "      <th>monika</th>\n",
       "      <td>director</td>\n",
       "      <td>aps</td>\n",
       "    </tr>\n",
       "    <tr>\n",
       "      <th>purva</th>\n",
       "      <td>designer</td>\n",
       "      <td>NaN</td>\n",
       "    </tr>\n",
       "  </tbody>\n",
       "</table>\n",
       "</div>"
      ],
      "text/plain": [
       "                 role school\n",
       "name                        \n",
       "devashish         NaN    cqm\n",
       "kamal             NaN    dav\n",
       "lalit      supervisor    NaN\n",
       "monika       director    aps\n",
       "purva        designer    NaN"
      ]
     },
     "execution_count": 25,
     "metadata": {},
     "output_type": "execute_result"
    }
   ],
   "source": [
    "#outer\n",
    "pd.merge(staff_df, student_df, how='outer', left_index=True, right_index=True)"
   ]
  },
  {
   "cell_type": "code",
   "execution_count": 26,
   "id": "94d4ca9f",
   "metadata": {},
   "outputs": [
    {
     "data": {
      "text/html": [
       "<div>\n",
       "<style scoped>\n",
       "    .dataframe tbody tr th:only-of-type {\n",
       "        vertical-align: middle;\n",
       "    }\n",
       "\n",
       "    .dataframe tbody tr th {\n",
       "        vertical-align: top;\n",
       "    }\n",
       "\n",
       "    .dataframe thead th {\n",
       "        text-align: right;\n",
       "    }\n",
       "</style>\n",
       "<table border=\"1\" class=\"dataframe\">\n",
       "  <thead>\n",
       "    <tr style=\"text-align: right;\">\n",
       "      <th></th>\n",
       "      <th>role</th>\n",
       "      <th>school</th>\n",
       "    </tr>\n",
       "    <tr>\n",
       "      <th>name</th>\n",
       "      <th></th>\n",
       "      <th></th>\n",
       "    </tr>\n",
       "  </thead>\n",
       "  <tbody>\n",
       "    <tr>\n",
       "      <th>monika</th>\n",
       "      <td>director</td>\n",
       "      <td>aps</td>\n",
       "    </tr>\n",
       "  </tbody>\n",
       "</table>\n",
       "</div>"
      ],
      "text/plain": [
       "            role school\n",
       "name                   \n",
       "monika  director    aps"
      ]
     },
     "execution_count": 26,
     "metadata": {},
     "output_type": "execute_result"
    }
   ],
   "source": [
    "#inner\n",
    "pd.merge(staff_df, student_df, how='inner', left_index=True, right_index=True)"
   ]
  },
  {
   "cell_type": "code",
   "execution_count": 27,
   "id": "1862ee34",
   "metadata": {},
   "outputs": [
    {
     "data": {
      "text/html": [
       "<div>\n",
       "<style scoped>\n",
       "    .dataframe tbody tr th:only-of-type {\n",
       "        vertical-align: middle;\n",
       "    }\n",
       "\n",
       "    .dataframe tbody tr th {\n",
       "        vertical-align: top;\n",
       "    }\n",
       "\n",
       "    .dataframe thead th {\n",
       "        text-align: right;\n",
       "    }\n",
       "</style>\n",
       "<table border=\"1\" class=\"dataframe\">\n",
       "  <thead>\n",
       "    <tr style=\"text-align: right;\">\n",
       "      <th></th>\n",
       "      <th>role</th>\n",
       "      <th>school</th>\n",
       "    </tr>\n",
       "    <tr>\n",
       "      <th>name</th>\n",
       "      <th></th>\n",
       "      <th></th>\n",
       "    </tr>\n",
       "  </thead>\n",
       "  <tbody>\n",
       "    <tr>\n",
       "      <th>monika</th>\n",
       "      <td>director</td>\n",
       "      <td>aps</td>\n",
       "    </tr>\n",
       "    <tr>\n",
       "      <th>lalit</th>\n",
       "      <td>supervisor</td>\n",
       "      <td>NaN</td>\n",
       "    </tr>\n",
       "    <tr>\n",
       "      <th>purva</th>\n",
       "      <td>designer</td>\n",
       "      <td>NaN</td>\n",
       "    </tr>\n",
       "  </tbody>\n",
       "</table>\n",
       "</div>"
      ],
      "text/plain": [
       "              role school\n",
       "name                     \n",
       "monika    director    aps\n",
       "lalit   supervisor    NaN\n",
       "purva     designer    NaN"
      ]
     },
     "execution_count": 27,
     "metadata": {},
     "output_type": "execute_result"
    }
   ],
   "source": [
    "#leftjoin\n",
    "pd.merge(staff_df, student_df, how='left', left_index=True, right_index=True)"
   ]
  },
  {
   "cell_type": "code",
   "execution_count": 28,
   "id": "1af93933",
   "metadata": {},
   "outputs": [
    {
     "data": {
      "text/html": [
       "<div>\n",
       "<style scoped>\n",
       "    .dataframe tbody tr th:only-of-type {\n",
       "        vertical-align: middle;\n",
       "    }\n",
       "\n",
       "    .dataframe tbody tr th {\n",
       "        vertical-align: top;\n",
       "    }\n",
       "\n",
       "    .dataframe thead th {\n",
       "        text-align: right;\n",
       "    }\n",
       "</style>\n",
       "<table border=\"1\" class=\"dataframe\">\n",
       "  <thead>\n",
       "    <tr style=\"text-align: right;\">\n",
       "      <th></th>\n",
       "      <th>role</th>\n",
       "      <th>school</th>\n",
       "    </tr>\n",
       "    <tr>\n",
       "      <th>name</th>\n",
       "      <th></th>\n",
       "      <th></th>\n",
       "    </tr>\n",
       "  </thead>\n",
       "  <tbody>\n",
       "    <tr>\n",
       "      <th>monika</th>\n",
       "      <td>director</td>\n",
       "      <td>aps</td>\n",
       "    </tr>\n",
       "    <tr>\n",
       "      <th>kamal</th>\n",
       "      <td>NaN</td>\n",
       "      <td>dav</td>\n",
       "    </tr>\n",
       "    <tr>\n",
       "      <th>devashish</th>\n",
       "      <td>NaN</td>\n",
       "      <td>cqm</td>\n",
       "    </tr>\n",
       "  </tbody>\n",
       "</table>\n",
       "</div>"
      ],
      "text/plain": [
       "               role school\n",
       "name                      \n",
       "monika     director    aps\n",
       "kamal           NaN    dav\n",
       "devashish       NaN    cqm"
      ]
     },
     "execution_count": 28,
     "metadata": {},
     "output_type": "execute_result"
    }
   ],
   "source": [
    "#rightjoin\n",
    "pd.merge(staff_df, student_df, how='right', left_index=True, right_index=True)"
   ]
  },
  {
   "cell_type": "markdown",
   "id": "35f8c17a",
   "metadata": {},
   "source": [
    "**July 30:**"
   ]
  },
  {
   "cell_type": "code",
   "execution_count": null,
   "id": "71fbf80b",
   "metadata": {},
   "outputs": [
    {
     "data": {
      "image/png": "[encoded data removed]",
      "text/plain": [
       "<Figure size 640x480 with 1 Axes>"
      ]
     },
     "metadata": {},
     "output_type": "display_data"
    }
   ],
   "source": [
    "#basic plots\n",
    "# line plot\n",
    "\n",
    "#importing the matplotlib module\n",
    "from matplotlib import pyplot as plt\n",
    "\n",
    "#x-axis values\n",
    "x = [5,2,9,4,7]\n",
    "\n",
    "#y-axis values\n",
    "y = [10,5,8,4,2]\n",
    "\n",
    "#function to plot the line graph\n",
    "plt.plot(x, y)\n",
    "\n",
    "#function to show the plot\n",
    "plt.show()"
   ]
  },
  {
   "cell_type": "code",
   "execution_count": null,
   "id": "6785c408",
   "metadata": {},
   "outputs": [
    {
     "data": {
      "image/png": "[encoded data removed]",
      "text/plain": [
       "<Figure size 640x480 with 1 Axes>"
      ]
     },
     "metadata": {},
     "output_type": "display_data"
    }
   ],
   "source": [
    "#bar plot\n",
    "\n",
    "#importing the matplotlib module\n",
    "from matplotlib import pyplot as plt\n",
    "\n",
    "#x-axis values\n",
    "x = [5,2,9,4,7]\n",
    "\n",
    "#y-axis values\n",
    "y = [10,5,8,4,2]\n",
    "\n",
    "#function to plot the bar plot\n",
    "plt.bar(x, y)\n",
    "\n",
    "#function to show the plot\n",
    "plt.show()"
   ]
  },
  {
   "cell_type": "code",
   "execution_count": null,
   "id": "4cd97620",
   "metadata": {},
   "outputs": [
    {
     "data": {
      "image/png": "[encoded data removed]",
      "text/plain": [
       "<Figure size 640x480 with 1 Axes>"
      ]
     },
     "metadata": {},
     "output_type": "display_data"
    }
   ],
   "source": [
    "#histogram\n",
    "\n",
    "#importing the matplotlib module\n",
    "from matplotlib import pyplot as plt\n",
    "\n",
    "#y-axis values\n",
    "y = [10,5,8,4,2]\n",
    "\n",
    "#function to plot the histogram\n",
    "plt.hist(y)\n",
    "\n",
    "#function to show the plot\n",
    "plt.show()"
   ]
  },
  {
   "cell_type": "code",
   "execution_count": 4,
   "id": "47f2c331",
   "metadata": {},
   "outputs": [
    {
     "data": {
      "image/png": "[encoded data removed]",
      "text/plain": [
       "<Figure size 640x480 with 1 Axes>"
      ]
     },
     "metadata": {},
     "output_type": "display_data"
    }
   ],
   "source": [
    "#scatter plot\n",
    "\n",
    "#importing the matplotlib module\n",
    "from matplotlib import pyplot as plt\n",
    "\n",
    "#x-axis values\n",
    "x = [5,2,9,4,7]\n",
    "\n",
    "#y-axis values\n",
    "y = [10,5,8,4,2]\n",
    "\n",
    "#function to plot the scatter plot\n",
    "plt.scatter(x, y)\n",
    "\n",
    "#function to show the plot\n",
    "plt.show()"
   ]
  },
  {
   "cell_type": "code",
   "execution_count": null,
   "id": "15806517",
   "metadata": {},
   "outputs": [
    {
     "data": {
      "text/plain": [
       "[<matplotlib.lines.Line2D at 0x1ce125b3390>]"
      ]
     },
     "execution_count": 5,
     "metadata": {},
     "output_type": "execute_result"
    },
    {
     "data": {
      "image/png": "[encoded data removed]",
      "text/plain": [
       "<Figure size 640x480 with 1 Axes>"
      ]
     },
     "metadata": {},
     "output_type": "display_data"
    }
   ],
   "source": [
    "#functional approach\n",
    "import numpy as np\n",
    "x = np.linspace(0,10,20) #generate 20 data points between 0 and 10\n",
    "y = x**2 #generate array 'y' from square of 'x'\n",
    "plt.plot(x,y)"
   ]
  },
  {
   "cell_type": "code",
   "execution_count": 6,
   "id": "be1cdf91",
   "metadata": {},
   "outputs": [
    {
     "data": {
      "text/plain": [
       "Text(0, 0.5, 'Y Label')"
      ]
     },
     "execution_count": 6,
     "metadata": {},
     "output_type": "execute_result"
    },
    {
     "data": {
      "image/png": "[encoded data removed]",
      "text/plain": [
       "<Figure size 640x480 with 1 Axes>"
      ]
     },
     "metadata": {},
     "output_type": "display_data"
    }
   ],
   "source": [
    "#putting labels\n",
    "plt.title('Our first plot')\n",
    "plt.xlabel('X Label')\n",
    "plt.ylabel('Y Label')"
   ]
  },
  {
   "cell_type": "code",
   "execution_count": 8,
   "id": "d9d7790c",
   "metadata": {},
   "outputs": [
    {
     "data": {
      "text/plain": [
       "[<matplotlib.lines.Line2D at 0x1ce102d7b10>]"
      ]
     },
     "execution_count": 8,
     "metadata": {},
     "output_type": "execute_result"
    },
    {
     "data": {
      "image/png": "[encoded data removed]",
      "text/plain": [
       "<Figure size 640x480 with 2 Axes>"
      ]
     },
     "metadata": {},
     "output_type": "display_data"
    }
   ],
   "source": [
    "#using .subplot() to create two plots on the same canvas\n",
    "\n",
    "#plt.subplot(nrwos, ncols, plot number)\n",
    "plt.subplot(1,2,1)\n",
    "plt.plot(x,y,'red') #more on color options later\n",
    "\n",
    "plt.subplot(1,2,2)\n",
    "plt.plot(y,x,'green') "
   ]
  },
  {
   "cell_type": "code",
   "execution_count": null,
   "id": "9ed62cb7",
   "metadata": {},
   "outputs": [
    {
     "data": {
      "text/plain": [
       "Text(0.5, 1.0, 'Our First Plot using Object Oriented Approach')"
      ]
     },
     "execution_count": 9,
     "metadata": {},
     "output_type": "execute_result"
    },
    {
     "data": {
      "image/png": "[encoded data removed]",
      "text/plain": [
       "<Figure size 640x480 with 1 Axes>"
      ]
     },
     "metadata": {},
     "output_type": "display_data"
    }
   ],
   "source": [
    "#object oriented approach\n",
    "fig = plt.figure()\n",
    "ax = fig.add_axes([0.1, 0.2, 0.8, 0.9])\n",
    "\n",
    "ax.plot(x, y, 'purple')\n",
    "ax.set_xlabel('X Label')\n",
    "ax.set_ylabel('Y Label')\n",
    "ax.set_title('Our First Plot using Object Oriented Approach')"
   ]
  },
  {
   "cell_type": "code",
   "execution_count": null,
   "id": "26ae26de",
   "metadata": {},
   "outputs": [
    {
     "data": {
      "text/plain": [
       "[<matplotlib.lines.Line2D at 0x1ce129fc050>]"
      ]
     },
     "execution_count": 13,
     "metadata": {},
     "output_type": "execute_result"
    },
    {
     "data": {
      "image/png": "[encoded data removed]",
      "text/plain": [
       "<Figure size 640x480 with 2 Axes>"
      ]
     },
     "metadata": {},
     "output_type": "display_data"
    }
   ],
   "source": [
    "#using figure in figure (plot in plot)\n",
    "fig = plt.figure()\n",
    "\n",
    "axes1 = fig.add_axes([0.1, 0.1, 0.8, 0.8])\n",
    "axes2 = fig.add_axes([0.2, 0.5, 0.4, 0.3])\n",
    "\n",
    "axes1.plot(x,y)\n",
    "axes2.plot(y,x)\n"
   ]
  },
  {
   "cell_type": "code",
   "execution_count": 15,
   "id": "c0fcf003",
   "metadata": {},
   "outputs": [
    {
     "data": {
      "image/png": "[encoded data removed]",
      "text/plain": [
       "<Figure size 640x480 with 9 Axes>"
      ]
     },
     "metadata": {},
     "output_type": "display_data"
    }
   ],
   "source": [
    "# empty canvas of 3 x 3 subplots\n",
    "\n",
    "fig, ax = plt.subplots(nrows = 3, ncols = 3)\n",
    "\n",
    "ax[0,1].plot(x,y)\n",
    "ax[1,2].plot(y,x)\n",
    "\n",
    "plt.tight_layout()"
   ]
  },
  {
   "cell_type": "code",
   "execution_count": null,
   "id": "8b74b1c1",
   "metadata": {},
   "outputs": [
    {
     "data": {
      "image/png": "[encoded data removed]",
      "text/plain": [
       "<Figure size 640x480 with 9 Axes>"
      ]
     },
     "metadata": {},
     "output_type": "display_data"
    }
   ],
   "source": [
    "#plotting all of them\n",
    "\n",
    "fig, ax = plt.subplots(nrows = 3, ncols = 3)\n",
    "\n",
    "ax[0,1].plot(x,y)\n",
    "ax[1,2].plot(y,x)\n",
    "ax[0,0].plot(x,y)\n",
    "ax[0,2].plot(y,x)\n",
    "ax[1,0].plot(x,y)\n",
    "ax[1,1].plot(y,x)\n",
    "ax[2,0].plot(x,y)\n",
    "ax[2,1].plot(y,x)\n",
    "ax[2,2].plot(x,y)\n",
    "\n",
    "plt.tight_layout()"
   ]
  },
  {
   "cell_type": "code",
   "execution_count": null,
   "id": "abe2d25e",
   "metadata": {},
   "outputs": [],
   "source": [
    "# dpi in figue (to make the lines thicker)\n"
   ]
  },
  {
   "cell_type": "code",
   "execution_count": null,
   "id": "507730f0",
   "metadata": {},
   "outputs": [
    {
     "data": {
      "text/plain": [
       "<function matplotlib.pyplot.show(close=None, block=None)>"
      ]
     },
     "execution_count": 28,
     "metadata": {},
     "output_type": "execute_result"
    },
    {
     "data": {
      "image/png": "[encoded data removed]",
      "text/plain": [
       "<Figure size 640x480 with 1 Axes>"
      ]
     },
     "metadata": {},
     "output_type": "display_data"
    }
   ],
   "source": [
    "#saving your plot as an image\n",
    "\n",
    "import matplotlib.image as mpimg\n",
    "\n",
    "fig = plt.figure()\n",
    "ax = fig.add_axes([0.1, 0.2, 0.8, 0.9])\n",
    "\n",
    "ax.plot(x, y, 'purple')\n",
    "ax.set_xlabel('X Label')\n",
    "ax.set_ylabel('Y Label')\n",
    "ax.set_title('Our First Plot using Object Oriented Approach')\n",
    "\n",
    "#save the curent figure as 'my_figure.png'\n",
    "fig.savefig('my_figure.png')\n",
    "\n",
    "#read and display the saved image\n",
    "plt.imshow(mpimg.imread('my_figure.png'))\n",
    "plt.show"
   ]
  },
  {
   "cell_type": "code",
   "execution_count": null,
   "id": "55929064",
   "metadata": {},
   "outputs": [
    {
     "data": {
      "text/plain": [
       "<matplotlib.legend.Legend at 0x24a39b378c0>"
      ]
     },
     "execution_count": 2,
     "metadata": {},
     "output_type": "execute_result"
    },
    {
     "data": {
      "image/png": "[encoded data removed]",
      "text/plain": [
       "<Figure size 480x360 with 1 Axes>"
      ]
     },
     "metadata": {},
     "output_type": "display_data"
    }
   ],
   "source": [
    "#legends (to label different plots in the same figure)\n",
    "import matplotlib.pyplot as plt\n",
    "import numpy as np\n",
    "\n",
    "x = np.linspace(0, 10, 20)\n",
    "\n",
    "fig = plt.figure(figsize = (8,6), dpi = 60)\n",
    "ax = fig.add_axes([0,0,1,1])\n",
    "ax.plot(x, x**2, label = \"X Square Plot\")\n",
    "ax.plot(x, x**3, 'red', label = \"X Cube Plot\")\n",
    "\n",
    "ax.legend()"
   ]
  },
  {
   "cell_type": "code",
   "execution_count": null,
   "id": "c10e825e",
   "metadata": {},
   "outputs": [],
   "source": []
  }
 ],
 "metadata": {
  "kernelspec": {
   "display_name": "Python 3",
   "language": "python",
   "name": "python3"
  },
  "language_info": {
   "codemirror_mode": {
    "name": "ipython",
    "version": 3
   },
   "file_extension": ".py",
   "mimetype": "text/x-python",
   "name": "python",
   "nbconvert_exporter": "python",
   "pygments_lexer": "ipython3",
   "version": "3.13.2"
  }
 },
 "nbformat": 4,
 "nbformat_minor": 5
}
